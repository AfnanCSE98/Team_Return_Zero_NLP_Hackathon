{
  "metadata": {
    "kernelspec": {
      "language": "python",
      "display_name": "Python 3",
      "name": "python3"
    },
    "language_info": {
      "name": "python",
      "version": "3.7.10",
      "mimetype": "text/x-python",
      "codemirror_mode": {
        "name": "ipython",
        "version": 3
      },
      "pygments_lexer": "ipython3",
      "nbconvert_exporter": "python",
      "file_extension": ".py"
    },
    "colab": {
      "provenance": [],
      "machine_shape": "hm"
    },
    "gpuClass": "standard",
    "accelerator": "GPU",
    "widgets": {
      "application/vnd.jupyter.widget-state+json": {
        "dcdcc3b1b9524543897e232d41b81796": {
          "model_module": "@jupyter-widgets/controls",
          "model_name": "HBoxModel",
          "model_module_version": "1.5.0",
          "state": {
            "_dom_classes": [],
            "_model_module": "@jupyter-widgets/controls",
            "_model_module_version": "1.5.0",
            "_model_name": "HBoxModel",
            "_view_count": null,
            "_view_module": "@jupyter-widgets/controls",
            "_view_module_version": "1.5.0",
            "_view_name": "HBoxView",
            "box_style": "",
            "children": [
              "IPY_MODEL_e7c8a037876d492fac0fe5617710a989",
              "IPY_MODEL_1746e6d7341d41399c1ef4dd12726569",
              "IPY_MODEL_676515cd33da48c5966c13d226b14dd7"
            ],
            "layout": "IPY_MODEL_7b4ec6f5d80f4ec9b8211216de5c2572"
          }
        },
        "e7c8a037876d492fac0fe5617710a989": {
          "model_module": "@jupyter-widgets/controls",
          "model_name": "HTMLModel",
          "model_module_version": "1.5.0",
          "state": {
            "_dom_classes": [],
            "_model_module": "@jupyter-widgets/controls",
            "_model_module_version": "1.5.0",
            "_model_name": "HTMLModel",
            "_view_count": null,
            "_view_module": "@jupyter-widgets/controls",
            "_view_module_version": "1.5.0",
            "_view_name": "HTMLView",
            "description": "",
            "description_tooltip": null,
            "layout": "IPY_MODEL_aec8b54099394809ad698f5819210bac",
            "placeholder": "​",
            "style": "IPY_MODEL_a99a28bf9d864ad693932d445f6f6d8c",
            "value": "Downloading: 100%"
          }
        },
        "1746e6d7341d41399c1ef4dd12726569": {
          "model_module": "@jupyter-widgets/controls",
          "model_name": "FloatProgressModel",
          "model_module_version": "1.5.0",
          "state": {
            "_dom_classes": [],
            "_model_module": "@jupyter-widgets/controls",
            "_model_module_version": "1.5.0",
            "_model_name": "FloatProgressModel",
            "_view_count": null,
            "_view_module": "@jupyter-widgets/controls",
            "_view_module_version": "1.5.0",
            "_view_name": "ProgressView",
            "bar_style": "success",
            "description": "",
            "description_tooltip": null,
            "layout": "IPY_MODEL_e7d434eac92a484f96875178f20dbed9",
            "max": 586,
            "min": 0,
            "orientation": "horizontal",
            "style": "IPY_MODEL_7cf98d7606b34a3fa35b64edbc47ac91",
            "value": 586
          }
        },
        "676515cd33da48c5966c13d226b14dd7": {
          "model_module": "@jupyter-widgets/controls",
          "model_name": "HTMLModel",
          "model_module_version": "1.5.0",
          "state": {
            "_dom_classes": [],
            "_model_module": "@jupyter-widgets/controls",
            "_model_module_version": "1.5.0",
            "_model_name": "HTMLModel",
            "_view_count": null,
            "_view_module": "@jupyter-widgets/controls",
            "_view_module_version": "1.5.0",
            "_view_name": "HTMLView",
            "description": "",
            "description_tooltip": null,
            "layout": "IPY_MODEL_65a28ac1a5654737b43ebd515f2e6147",
            "placeholder": "​",
            "style": "IPY_MODEL_003b1bd76bbb47a9ab9937abc9f894a7",
            "value": " 586/586 [00:00&lt;00:00, 32.5kB/s]"
          }
        },
        "7b4ec6f5d80f4ec9b8211216de5c2572": {
          "model_module": "@jupyter-widgets/base",
          "model_name": "LayoutModel",
          "model_module_version": "1.2.0",
          "state": {
            "_model_module": "@jupyter-widgets/base",
            "_model_module_version": "1.2.0",
            "_model_name": "LayoutModel",
            "_view_count": null,
            "_view_module": "@jupyter-widgets/base",
            "_view_module_version": "1.2.0",
            "_view_name": "LayoutView",
            "align_content": null,
            "align_items": null,
            "align_self": null,
            "border": null,
            "bottom": null,
            "display": null,
            "flex": null,
            "flex_flow": null,
            "grid_area": null,
            "grid_auto_columns": null,
            "grid_auto_flow": null,
            "grid_auto_rows": null,
            "grid_column": null,
            "grid_gap": null,
            "grid_row": null,
            "grid_template_areas": null,
            "grid_template_columns": null,
            "grid_template_rows": null,
            "height": null,
            "justify_content": null,
            "justify_items": null,
            "left": null,
            "margin": null,
            "max_height": null,
            "max_width": null,
            "min_height": null,
            "min_width": null,
            "object_fit": null,
            "object_position": null,
            "order": null,
            "overflow": null,
            "overflow_x": null,
            "overflow_y": null,
            "padding": null,
            "right": null,
            "top": null,
            "visibility": null,
            "width": null
          }
        },
        "aec8b54099394809ad698f5819210bac": {
          "model_module": "@jupyter-widgets/base",
          "model_name": "LayoutModel",
          "model_module_version": "1.2.0",
          "state": {
            "_model_module": "@jupyter-widgets/base",
            "_model_module_version": "1.2.0",
            "_model_name": "LayoutModel",
            "_view_count": null,
            "_view_module": "@jupyter-widgets/base",
            "_view_module_version": "1.2.0",
            "_view_name": "LayoutView",
            "align_content": null,
            "align_items": null,
            "align_self": null,
            "border": null,
            "bottom": null,
            "display": null,
            "flex": null,
            "flex_flow": null,
            "grid_area": null,
            "grid_auto_columns": null,
            "grid_auto_flow": null,
            "grid_auto_rows": null,
            "grid_column": null,
            "grid_gap": null,
            "grid_row": null,
            "grid_template_areas": null,
            "grid_template_columns": null,
            "grid_template_rows": null,
            "height": null,
            "justify_content": null,
            "justify_items": null,
            "left": null,
            "margin": null,
            "max_height": null,
            "max_width": null,
            "min_height": null,
            "min_width": null,
            "object_fit": null,
            "object_position": null,
            "order": null,
            "overflow": null,
            "overflow_x": null,
            "overflow_y": null,
            "padding": null,
            "right": null,
            "top": null,
            "visibility": null,
            "width": null
          }
        },
        "a99a28bf9d864ad693932d445f6f6d8c": {
          "model_module": "@jupyter-widgets/controls",
          "model_name": "DescriptionStyleModel",
          "model_module_version": "1.5.0",
          "state": {
            "_model_module": "@jupyter-widgets/controls",
            "_model_module_version": "1.5.0",
            "_model_name": "DescriptionStyleModel",
            "_view_count": null,
            "_view_module": "@jupyter-widgets/base",
            "_view_module_version": "1.2.0",
            "_view_name": "StyleView",
            "description_width": ""
          }
        },
        "e7d434eac92a484f96875178f20dbed9": {
          "model_module": "@jupyter-widgets/base",
          "model_name": "LayoutModel",
          "model_module_version": "1.2.0",
          "state": {
            "_model_module": "@jupyter-widgets/base",
            "_model_module_version": "1.2.0",
            "_model_name": "LayoutModel",
            "_view_count": null,
            "_view_module": "@jupyter-widgets/base",
            "_view_module_version": "1.2.0",
            "_view_name": "LayoutView",
            "align_content": null,
            "align_items": null,
            "align_self": null,
            "border": null,
            "bottom": null,
            "display": null,
            "flex": null,
            "flex_flow": null,
            "grid_area": null,
            "grid_auto_columns": null,
            "grid_auto_flow": null,
            "grid_auto_rows": null,
            "grid_column": null,
            "grid_gap": null,
            "grid_row": null,
            "grid_template_areas": null,
            "grid_template_columns": null,
            "grid_template_rows": null,
            "height": null,
            "justify_content": null,
            "justify_items": null,
            "left": null,
            "margin": null,
            "max_height": null,
            "max_width": null,
            "min_height": null,
            "min_width": null,
            "object_fit": null,
            "object_position": null,
            "order": null,
            "overflow": null,
            "overflow_x": null,
            "overflow_y": null,
            "padding": null,
            "right": null,
            "top": null,
            "visibility": null,
            "width": null
          }
        },
        "7cf98d7606b34a3fa35b64edbc47ac91": {
          "model_module": "@jupyter-widgets/controls",
          "model_name": "ProgressStyleModel",
          "model_module_version": "1.5.0",
          "state": {
            "_model_module": "@jupyter-widgets/controls",
            "_model_module_version": "1.5.0",
            "_model_name": "ProgressStyleModel",
            "_view_count": null,
            "_view_module": "@jupyter-widgets/base",
            "_view_module_version": "1.2.0",
            "_view_name": "StyleView",
            "bar_color": null,
            "description_width": ""
          }
        },
        "65a28ac1a5654737b43ebd515f2e6147": {
          "model_module": "@jupyter-widgets/base",
          "model_name": "LayoutModel",
          "model_module_version": "1.2.0",
          "state": {
            "_model_module": "@jupyter-widgets/base",
            "_model_module_version": "1.2.0",
            "_model_name": "LayoutModel",
            "_view_count": null,
            "_view_module": "@jupyter-widgets/base",
            "_view_module_version": "1.2.0",
            "_view_name": "LayoutView",
            "align_content": null,
            "align_items": null,
            "align_self": null,
            "border": null,
            "bottom": null,
            "display": null,
            "flex": null,
            "flex_flow": null,
            "grid_area": null,
            "grid_auto_columns": null,
            "grid_auto_flow": null,
            "grid_auto_rows": null,
            "grid_column": null,
            "grid_gap": null,
            "grid_row": null,
            "grid_template_areas": null,
            "grid_template_columns": null,
            "grid_template_rows": null,
            "height": null,
            "justify_content": null,
            "justify_items": null,
            "left": null,
            "margin": null,
            "max_height": null,
            "max_width": null,
            "min_height": null,
            "min_width": null,
            "object_fit": null,
            "object_position": null,
            "order": null,
            "overflow": null,
            "overflow_x": null,
            "overflow_y": null,
            "padding": null,
            "right": null,
            "top": null,
            "visibility": null,
            "width": null
          }
        },
        "003b1bd76bbb47a9ab9937abc9f894a7": {
          "model_module": "@jupyter-widgets/controls",
          "model_name": "DescriptionStyleModel",
          "model_module_version": "1.5.0",
          "state": {
            "_model_module": "@jupyter-widgets/controls",
            "_model_module_version": "1.5.0",
            "_model_name": "DescriptionStyleModel",
            "_view_count": null,
            "_view_module": "@jupyter-widgets/base",
            "_view_module_version": "1.2.0",
            "_view_name": "StyleView",
            "description_width": ""
          }
        },
        "ec047bd7dd584b3581ae2c465bf0444d": {
          "model_module": "@jupyter-widgets/controls",
          "model_name": "HBoxModel",
          "model_module_version": "1.5.0",
          "state": {
            "_dom_classes": [],
            "_model_module": "@jupyter-widgets/controls",
            "_model_module_version": "1.5.0",
            "_model_name": "HBoxModel",
            "_view_count": null,
            "_view_module": "@jupyter-widgets/controls",
            "_view_module_version": "1.5.0",
            "_view_name": "HBoxView",
            "box_style": "",
            "children": [
              "IPY_MODEL_6f84c7f12fcd4f1fbd7807e1fada517d",
              "IPY_MODEL_98d3ed6302ff4feb8a0e7676cf1fcfc8",
              "IPY_MODEL_ad21b45d28864970ad5c2d8c0657ed62"
            ],
            "layout": "IPY_MODEL_85bc93c359a2483d8cbe7d736018f00e"
          }
        },
        "6f84c7f12fcd4f1fbd7807e1fada517d": {
          "model_module": "@jupyter-widgets/controls",
          "model_name": "HTMLModel",
          "model_module_version": "1.5.0",
          "state": {
            "_dom_classes": [],
            "_model_module": "@jupyter-widgets/controls",
            "_model_module_version": "1.5.0",
            "_model_name": "HTMLModel",
            "_view_count": null,
            "_view_module": "@jupyter-widgets/controls",
            "_view_module_version": "1.5.0",
            "_view_name": "HTMLView",
            "description": "",
            "description_tooltip": null,
            "layout": "IPY_MODEL_5f10786f59b64e94aa08a1afa27a35b5",
            "placeholder": "​",
            "style": "IPY_MODEL_73f2e0a8815a4e0ebef0997eb0b56550",
            "value": "Downloading: 100%"
          }
        },
        "98d3ed6302ff4feb8a0e7676cf1fcfc8": {
          "model_module": "@jupyter-widgets/controls",
          "model_name": "FloatProgressModel",
          "model_module_version": "1.5.0",
          "state": {
            "_dom_classes": [],
            "_model_module": "@jupyter-widgets/controls",
            "_model_module_version": "1.5.0",
            "_model_name": "FloatProgressModel",
            "_view_count": null,
            "_view_module": "@jupyter-widgets/controls",
            "_view_module_version": "1.5.0",
            "_view_name": "ProgressView",
            "bar_style": "success",
            "description": "",
            "description_tooltip": null,
            "layout": "IPY_MODEL_199eeac057e341adbb35dcef29b7bbe5",
            "max": 442560329,
            "min": 0,
            "orientation": "horizontal",
            "style": "IPY_MODEL_f98b9e9465b34f21bf24632719b0f801",
            "value": 442560329
          }
        },
        "ad21b45d28864970ad5c2d8c0657ed62": {
          "model_module": "@jupyter-widgets/controls",
          "model_name": "HTMLModel",
          "model_module_version": "1.5.0",
          "state": {
            "_dom_classes": [],
            "_model_module": "@jupyter-widgets/controls",
            "_model_module_version": "1.5.0",
            "_model_name": "HTMLModel",
            "_view_count": null,
            "_view_module": "@jupyter-widgets/controls",
            "_view_module_version": "1.5.0",
            "_view_name": "HTMLView",
            "description": "",
            "description_tooltip": null,
            "layout": "IPY_MODEL_63e8668a865243bf947b5d484c9a583b",
            "placeholder": "​",
            "style": "IPY_MODEL_586ef5c006fd4294bc363a8b5dd6e81d",
            "value": " 443M/443M [00:07&lt;00:00, 61.5MB/s]"
          }
        },
        "85bc93c359a2483d8cbe7d736018f00e": {
          "model_module": "@jupyter-widgets/base",
          "model_name": "LayoutModel",
          "model_module_version": "1.2.0",
          "state": {
            "_model_module": "@jupyter-widgets/base",
            "_model_module_version": "1.2.0",
            "_model_name": "LayoutModel",
            "_view_count": null,
            "_view_module": "@jupyter-widgets/base",
            "_view_module_version": "1.2.0",
            "_view_name": "LayoutView",
            "align_content": null,
            "align_items": null,
            "align_self": null,
            "border": null,
            "bottom": null,
            "display": null,
            "flex": null,
            "flex_flow": null,
            "grid_area": null,
            "grid_auto_columns": null,
            "grid_auto_flow": null,
            "grid_auto_rows": null,
            "grid_column": null,
            "grid_gap": null,
            "grid_row": null,
            "grid_template_areas": null,
            "grid_template_columns": null,
            "grid_template_rows": null,
            "height": null,
            "justify_content": null,
            "justify_items": null,
            "left": null,
            "margin": null,
            "max_height": null,
            "max_width": null,
            "min_height": null,
            "min_width": null,
            "object_fit": null,
            "object_position": null,
            "order": null,
            "overflow": null,
            "overflow_x": null,
            "overflow_y": null,
            "padding": null,
            "right": null,
            "top": null,
            "visibility": null,
            "width": null
          }
        },
        "5f10786f59b64e94aa08a1afa27a35b5": {
          "model_module": "@jupyter-widgets/base",
          "model_name": "LayoutModel",
          "model_module_version": "1.2.0",
          "state": {
            "_model_module": "@jupyter-widgets/base",
            "_model_module_version": "1.2.0",
            "_model_name": "LayoutModel",
            "_view_count": null,
            "_view_module": "@jupyter-widgets/base",
            "_view_module_version": "1.2.0",
            "_view_name": "LayoutView",
            "align_content": null,
            "align_items": null,
            "align_self": null,
            "border": null,
            "bottom": null,
            "display": null,
            "flex": null,
            "flex_flow": null,
            "grid_area": null,
            "grid_auto_columns": null,
            "grid_auto_flow": null,
            "grid_auto_rows": null,
            "grid_column": null,
            "grid_gap": null,
            "grid_row": null,
            "grid_template_areas": null,
            "grid_template_columns": null,
            "grid_template_rows": null,
            "height": null,
            "justify_content": null,
            "justify_items": null,
            "left": null,
            "margin": null,
            "max_height": null,
            "max_width": null,
            "min_height": null,
            "min_width": null,
            "object_fit": null,
            "object_position": null,
            "order": null,
            "overflow": null,
            "overflow_x": null,
            "overflow_y": null,
            "padding": null,
            "right": null,
            "top": null,
            "visibility": null,
            "width": null
          }
        },
        "73f2e0a8815a4e0ebef0997eb0b56550": {
          "model_module": "@jupyter-widgets/controls",
          "model_name": "DescriptionStyleModel",
          "model_module_version": "1.5.0",
          "state": {
            "_model_module": "@jupyter-widgets/controls",
            "_model_module_version": "1.5.0",
            "_model_name": "DescriptionStyleModel",
            "_view_count": null,
            "_view_module": "@jupyter-widgets/base",
            "_view_module_version": "1.2.0",
            "_view_name": "StyleView",
            "description_width": ""
          }
        },
        "199eeac057e341adbb35dcef29b7bbe5": {
          "model_module": "@jupyter-widgets/base",
          "model_name": "LayoutModel",
          "model_module_version": "1.2.0",
          "state": {
            "_model_module": "@jupyter-widgets/base",
            "_model_module_version": "1.2.0",
            "_model_name": "LayoutModel",
            "_view_count": null,
            "_view_module": "@jupyter-widgets/base",
            "_view_module_version": "1.2.0",
            "_view_name": "LayoutView",
            "align_content": null,
            "align_items": null,
            "align_self": null,
            "border": null,
            "bottom": null,
            "display": null,
            "flex": null,
            "flex_flow": null,
            "grid_area": null,
            "grid_auto_columns": null,
            "grid_auto_flow": null,
            "grid_auto_rows": null,
            "grid_column": null,
            "grid_gap": null,
            "grid_row": null,
            "grid_template_areas": null,
            "grid_template_columns": null,
            "grid_template_rows": null,
            "height": null,
            "justify_content": null,
            "justify_items": null,
            "left": null,
            "margin": null,
            "max_height": null,
            "max_width": null,
            "min_height": null,
            "min_width": null,
            "object_fit": null,
            "object_position": null,
            "order": null,
            "overflow": null,
            "overflow_x": null,
            "overflow_y": null,
            "padding": null,
            "right": null,
            "top": null,
            "visibility": null,
            "width": null
          }
        },
        "f98b9e9465b34f21bf24632719b0f801": {
          "model_module": "@jupyter-widgets/controls",
          "model_name": "ProgressStyleModel",
          "model_module_version": "1.5.0",
          "state": {
            "_model_module": "@jupyter-widgets/controls",
            "_model_module_version": "1.5.0",
            "_model_name": "ProgressStyleModel",
            "_view_count": null,
            "_view_module": "@jupyter-widgets/base",
            "_view_module_version": "1.2.0",
            "_view_name": "StyleView",
            "bar_color": null,
            "description_width": ""
          }
        },
        "63e8668a865243bf947b5d484c9a583b": {
          "model_module": "@jupyter-widgets/base",
          "model_name": "LayoutModel",
          "model_module_version": "1.2.0",
          "state": {
            "_model_module": "@jupyter-widgets/base",
            "_model_module_version": "1.2.0",
            "_model_name": "LayoutModel",
            "_view_count": null,
            "_view_module": "@jupyter-widgets/base",
            "_view_module_version": "1.2.0",
            "_view_name": "LayoutView",
            "align_content": null,
            "align_items": null,
            "align_self": null,
            "border": null,
            "bottom": null,
            "display": null,
            "flex": null,
            "flex_flow": null,
            "grid_area": null,
            "grid_auto_columns": null,
            "grid_auto_flow": null,
            "grid_auto_rows": null,
            "grid_column": null,
            "grid_gap": null,
            "grid_row": null,
            "grid_template_areas": null,
            "grid_template_columns": null,
            "grid_template_rows": null,
            "height": null,
            "justify_content": null,
            "justify_items": null,
            "left": null,
            "margin": null,
            "max_height": null,
            "max_width": null,
            "min_height": null,
            "min_width": null,
            "object_fit": null,
            "object_position": null,
            "order": null,
            "overflow": null,
            "overflow_x": null,
            "overflow_y": null,
            "padding": null,
            "right": null,
            "top": null,
            "visibility": null,
            "width": null
          }
        },
        "586ef5c006fd4294bc363a8b5dd6e81d": {
          "model_module": "@jupyter-widgets/controls",
          "model_name": "DescriptionStyleModel",
          "model_module_version": "1.5.0",
          "state": {
            "_model_module": "@jupyter-widgets/controls",
            "_model_module_version": "1.5.0",
            "_model_name": "DescriptionStyleModel",
            "_view_count": null,
            "_view_module": "@jupyter-widgets/base",
            "_view_module_version": "1.2.0",
            "_view_name": "StyleView",
            "description_width": ""
          }
        },
        "5564026d2e1b49f387578a3a49c122c9": {
          "model_module": "@jupyter-widgets/controls",
          "model_name": "HBoxModel",
          "model_module_version": "1.5.0",
          "state": {
            "_dom_classes": [],
            "_model_module": "@jupyter-widgets/controls",
            "_model_module_version": "1.5.0",
            "_model_name": "HBoxModel",
            "_view_count": null,
            "_view_module": "@jupyter-widgets/controls",
            "_view_module_version": "1.5.0",
            "_view_name": "HBoxView",
            "box_style": "",
            "children": [
              "IPY_MODEL_b8bc10f41fcf418ba9895399bd6e4812",
              "IPY_MODEL_d00244cc46764bb282239fa3e1720309",
              "IPY_MODEL_2eaebe9bda2e46d188708a32f7ba4d1d"
            ],
            "layout": "IPY_MODEL_d4a158d8bfed4042a73296f6a5f79882"
          }
        },
        "b8bc10f41fcf418ba9895399bd6e4812": {
          "model_module": "@jupyter-widgets/controls",
          "model_name": "HTMLModel",
          "model_module_version": "1.5.0",
          "state": {
            "_dom_classes": [],
            "_model_module": "@jupyter-widgets/controls",
            "_model_module_version": "1.5.0",
            "_model_name": "HTMLModel",
            "_view_count": null,
            "_view_module": "@jupyter-widgets/controls",
            "_view_module_version": "1.5.0",
            "_view_name": "HTMLView",
            "description": "",
            "description_tooltip": null,
            "layout": "IPY_MODEL_3e41d54d2d6640f5b5642470728049e6",
            "placeholder": "​",
            "style": "IPY_MODEL_5b0a6a3c7be345c29c694cab280cee5a",
            "value": "Downloading: 100%"
          }
        },
        "d00244cc46764bb282239fa3e1720309": {
          "model_module": "@jupyter-widgets/controls",
          "model_name": "FloatProgressModel",
          "model_module_version": "1.5.0",
          "state": {
            "_dom_classes": [],
            "_model_module": "@jupyter-widgets/controls",
            "_model_module_version": "1.5.0",
            "_model_name": "FloatProgressModel",
            "_view_count": null,
            "_view_module": "@jupyter-widgets/controls",
            "_view_module_version": "1.5.0",
            "_view_name": "ProgressView",
            "bar_style": "success",
            "description": "",
            "description_tooltip": null,
            "layout": "IPY_MODEL_57b144f61d0a43c89a070d6d661920fb",
            "max": 119,
            "min": 0,
            "orientation": "horizontal",
            "style": "IPY_MODEL_2dbc58f909114870b632a9348dee19e2",
            "value": 119
          }
        },
        "2eaebe9bda2e46d188708a32f7ba4d1d": {
          "model_module": "@jupyter-widgets/controls",
          "model_name": "HTMLModel",
          "model_module_version": "1.5.0",
          "state": {
            "_dom_classes": [],
            "_model_module": "@jupyter-widgets/controls",
            "_model_module_version": "1.5.0",
            "_model_name": "HTMLModel",
            "_view_count": null,
            "_view_module": "@jupyter-widgets/controls",
            "_view_module_version": "1.5.0",
            "_view_name": "HTMLView",
            "description": "",
            "description_tooltip": null,
            "layout": "IPY_MODEL_70134483c1814cde9e459f9e26cdbd3d",
            "placeholder": "​",
            "style": "IPY_MODEL_4856bc429d6b47d0918e0c58e9a3d5af",
            "value": " 119/119 [00:00&lt;00:00, 5.76kB/s]"
          }
        },
        "d4a158d8bfed4042a73296f6a5f79882": {
          "model_module": "@jupyter-widgets/base",
          "model_name": "LayoutModel",
          "model_module_version": "1.2.0",
          "state": {
            "_model_module": "@jupyter-widgets/base",
            "_model_module_version": "1.2.0",
            "_model_name": "LayoutModel",
            "_view_count": null,
            "_view_module": "@jupyter-widgets/base",
            "_view_module_version": "1.2.0",
            "_view_name": "LayoutView",
            "align_content": null,
            "align_items": null,
            "align_self": null,
            "border": null,
            "bottom": null,
            "display": null,
            "flex": null,
            "flex_flow": null,
            "grid_area": null,
            "grid_auto_columns": null,
            "grid_auto_flow": null,
            "grid_auto_rows": null,
            "grid_column": null,
            "grid_gap": null,
            "grid_row": null,
            "grid_template_areas": null,
            "grid_template_columns": null,
            "grid_template_rows": null,
            "height": null,
            "justify_content": null,
            "justify_items": null,
            "left": null,
            "margin": null,
            "max_height": null,
            "max_width": null,
            "min_height": null,
            "min_width": null,
            "object_fit": null,
            "object_position": null,
            "order": null,
            "overflow": null,
            "overflow_x": null,
            "overflow_y": null,
            "padding": null,
            "right": null,
            "top": null,
            "visibility": null,
            "width": null
          }
        },
        "3e41d54d2d6640f5b5642470728049e6": {
          "model_module": "@jupyter-widgets/base",
          "model_name": "LayoutModel",
          "model_module_version": "1.2.0",
          "state": {
            "_model_module": "@jupyter-widgets/base",
            "_model_module_version": "1.2.0",
            "_model_name": "LayoutModel",
            "_view_count": null,
            "_view_module": "@jupyter-widgets/base",
            "_view_module_version": "1.2.0",
            "_view_name": "LayoutView",
            "align_content": null,
            "align_items": null,
            "align_self": null,
            "border": null,
            "bottom": null,
            "display": null,
            "flex": null,
            "flex_flow": null,
            "grid_area": null,
            "grid_auto_columns": null,
            "grid_auto_flow": null,
            "grid_auto_rows": null,
            "grid_column": null,
            "grid_gap": null,
            "grid_row": null,
            "grid_template_areas": null,
            "grid_template_columns": null,
            "grid_template_rows": null,
            "height": null,
            "justify_content": null,
            "justify_items": null,
            "left": null,
            "margin": null,
            "max_height": null,
            "max_width": null,
            "min_height": null,
            "min_width": null,
            "object_fit": null,
            "object_position": null,
            "order": null,
            "overflow": null,
            "overflow_x": null,
            "overflow_y": null,
            "padding": null,
            "right": null,
            "top": null,
            "visibility": null,
            "width": null
          }
        },
        "5b0a6a3c7be345c29c694cab280cee5a": {
          "model_module": "@jupyter-widgets/controls",
          "model_name": "DescriptionStyleModel",
          "model_module_version": "1.5.0",
          "state": {
            "_model_module": "@jupyter-widgets/controls",
            "_model_module_version": "1.5.0",
            "_model_name": "DescriptionStyleModel",
            "_view_count": null,
            "_view_module": "@jupyter-widgets/base",
            "_view_module_version": "1.2.0",
            "_view_name": "StyleView",
            "description_width": ""
          }
        },
        "57b144f61d0a43c89a070d6d661920fb": {
          "model_module": "@jupyter-widgets/base",
          "model_name": "LayoutModel",
          "model_module_version": "1.2.0",
          "state": {
            "_model_module": "@jupyter-widgets/base",
            "_model_module_version": "1.2.0",
            "_model_name": "LayoutModel",
            "_view_count": null,
            "_view_module": "@jupyter-widgets/base",
            "_view_module_version": "1.2.0",
            "_view_name": "LayoutView",
            "align_content": null,
            "align_items": null,
            "align_self": null,
            "border": null,
            "bottom": null,
            "display": null,
            "flex": null,
            "flex_flow": null,
            "grid_area": null,
            "grid_auto_columns": null,
            "grid_auto_flow": null,
            "grid_auto_rows": null,
            "grid_column": null,
            "grid_gap": null,
            "grid_row": null,
            "grid_template_areas": null,
            "grid_template_columns": null,
            "grid_template_rows": null,
            "height": null,
            "justify_content": null,
            "justify_items": null,
            "left": null,
            "margin": null,
            "max_height": null,
            "max_width": null,
            "min_height": null,
            "min_width": null,
            "object_fit": null,
            "object_position": null,
            "order": null,
            "overflow": null,
            "overflow_x": null,
            "overflow_y": null,
            "padding": null,
            "right": null,
            "top": null,
            "visibility": null,
            "width": null
          }
        },
        "2dbc58f909114870b632a9348dee19e2": {
          "model_module": "@jupyter-widgets/controls",
          "model_name": "ProgressStyleModel",
          "model_module_version": "1.5.0",
          "state": {
            "_model_module": "@jupyter-widgets/controls",
            "_model_module_version": "1.5.0",
            "_model_name": "ProgressStyleModel",
            "_view_count": null,
            "_view_module": "@jupyter-widgets/base",
            "_view_module_version": "1.2.0",
            "_view_name": "StyleView",
            "bar_color": null,
            "description_width": ""
          }
        },
        "70134483c1814cde9e459f9e26cdbd3d": {
          "model_module": "@jupyter-widgets/base",
          "model_name": "LayoutModel",
          "model_module_version": "1.2.0",
          "state": {
            "_model_module": "@jupyter-widgets/base",
            "_model_module_version": "1.2.0",
            "_model_name": "LayoutModel",
            "_view_count": null,
            "_view_module": "@jupyter-widgets/base",
            "_view_module_version": "1.2.0",
            "_view_name": "LayoutView",
            "align_content": null,
            "align_items": null,
            "align_self": null,
            "border": null,
            "bottom": null,
            "display": null,
            "flex": null,
            "flex_flow": null,
            "grid_area": null,
            "grid_auto_columns": null,
            "grid_auto_flow": null,
            "grid_auto_rows": null,
            "grid_column": null,
            "grid_gap": null,
            "grid_row": null,
            "grid_template_areas": null,
            "grid_template_columns": null,
            "grid_template_rows": null,
            "height": null,
            "justify_content": null,
            "justify_items": null,
            "left": null,
            "margin": null,
            "max_height": null,
            "max_width": null,
            "min_height": null,
            "min_width": null,
            "object_fit": null,
            "object_position": null,
            "order": null,
            "overflow": null,
            "overflow_x": null,
            "overflow_y": null,
            "padding": null,
            "right": null,
            "top": null,
            "visibility": null,
            "width": null
          }
        },
        "4856bc429d6b47d0918e0c58e9a3d5af": {
          "model_module": "@jupyter-widgets/controls",
          "model_name": "DescriptionStyleModel",
          "model_module_version": "1.5.0",
          "state": {
            "_model_module": "@jupyter-widgets/controls",
            "_model_module_version": "1.5.0",
            "_model_name": "DescriptionStyleModel",
            "_view_count": null,
            "_view_module": "@jupyter-widgets/base",
            "_view_module_version": "1.2.0",
            "_view_name": "StyleView",
            "description_width": ""
          }
        },
        "b2f5cef42fca496c844b95ab4b657658": {
          "model_module": "@jupyter-widgets/controls",
          "model_name": "HBoxModel",
          "model_module_version": "1.5.0",
          "state": {
            "_dom_classes": [],
            "_model_module": "@jupyter-widgets/controls",
            "_model_module_version": "1.5.0",
            "_model_name": "HBoxModel",
            "_view_count": null,
            "_view_module": "@jupyter-widgets/controls",
            "_view_module_version": "1.5.0",
            "_view_name": "HBoxView",
            "box_style": "",
            "children": [
              "IPY_MODEL_ffe73eeab316445bbee813637158e94f",
              "IPY_MODEL_e2feb320dc2544be995eccf2241ae848",
              "IPY_MODEL_e513b29d3ab74a21a636c86a90810577"
            ],
            "layout": "IPY_MODEL_90546719e74340288411bb5e442e2be2"
          }
        },
        "ffe73eeab316445bbee813637158e94f": {
          "model_module": "@jupyter-widgets/controls",
          "model_name": "HTMLModel",
          "model_module_version": "1.5.0",
          "state": {
            "_dom_classes": [],
            "_model_module": "@jupyter-widgets/controls",
            "_model_module_version": "1.5.0",
            "_model_name": "HTMLModel",
            "_view_count": null,
            "_view_module": "@jupyter-widgets/controls",
            "_view_module_version": "1.5.0",
            "_view_name": "HTMLView",
            "description": "",
            "description_tooltip": null,
            "layout": "IPY_MODEL_dcbc6ab70fc24d4d96c1b2d5ae1ee46d",
            "placeholder": "​",
            "style": "IPY_MODEL_c86727adf2a44520abc0bdccfe6172cb",
            "value": "Downloading: 100%"
          }
        },
        "e2feb320dc2544be995eccf2241ae848": {
          "model_module": "@jupyter-widgets/controls",
          "model_name": "FloatProgressModel",
          "model_module_version": "1.5.0",
          "state": {
            "_dom_classes": [],
            "_model_module": "@jupyter-widgets/controls",
            "_model_module_version": "1.5.0",
            "_model_name": "FloatProgressModel",
            "_view_count": null,
            "_view_module": "@jupyter-widgets/controls",
            "_view_module_version": "1.5.0",
            "_view_name": "ProgressView",
            "bar_style": "success",
            "description": "",
            "description_tooltip": null,
            "layout": "IPY_MODEL_e66bdae0f80c4445a40c22d9d530caa5",
            "max": 528316,
            "min": 0,
            "orientation": "horizontal",
            "style": "IPY_MODEL_5e565945dddd49458c74322a3b009bd1",
            "value": 528316
          }
        },
        "e513b29d3ab74a21a636c86a90810577": {
          "model_module": "@jupyter-widgets/controls",
          "model_name": "HTMLModel",
          "model_module_version": "1.5.0",
          "state": {
            "_dom_classes": [],
            "_model_module": "@jupyter-widgets/controls",
            "_model_module_version": "1.5.0",
            "_model_name": "HTMLModel",
            "_view_count": null,
            "_view_module": "@jupyter-widgets/controls",
            "_view_module_version": "1.5.0",
            "_view_name": "HTMLView",
            "description": "",
            "description_tooltip": null,
            "layout": "IPY_MODEL_3faea42259cf42ccbe0e1dceef089b29",
            "placeholder": "​",
            "style": "IPY_MODEL_a3ac986e9a6544b2a348aafcf879e2ee",
            "value": " 528k/528k [00:00&lt;00:00, 5.34MB/s]"
          }
        },
        "90546719e74340288411bb5e442e2be2": {
          "model_module": "@jupyter-widgets/base",
          "model_name": "LayoutModel",
          "model_module_version": "1.2.0",
          "state": {
            "_model_module": "@jupyter-widgets/base",
            "_model_module_version": "1.2.0",
            "_model_name": "LayoutModel",
            "_view_count": null,
            "_view_module": "@jupyter-widgets/base",
            "_view_module_version": "1.2.0",
            "_view_name": "LayoutView",
            "align_content": null,
            "align_items": null,
            "align_self": null,
            "border": null,
            "bottom": null,
            "display": null,
            "flex": null,
            "flex_flow": null,
            "grid_area": null,
            "grid_auto_columns": null,
            "grid_auto_flow": null,
            "grid_auto_rows": null,
            "grid_column": null,
            "grid_gap": null,
            "grid_row": null,
            "grid_template_areas": null,
            "grid_template_columns": null,
            "grid_template_rows": null,
            "height": null,
            "justify_content": null,
            "justify_items": null,
            "left": null,
            "margin": null,
            "max_height": null,
            "max_width": null,
            "min_height": null,
            "min_width": null,
            "object_fit": null,
            "object_position": null,
            "order": null,
            "overflow": null,
            "overflow_x": null,
            "overflow_y": null,
            "padding": null,
            "right": null,
            "top": null,
            "visibility": null,
            "width": null
          }
        },
        "dcbc6ab70fc24d4d96c1b2d5ae1ee46d": {
          "model_module": "@jupyter-widgets/base",
          "model_name": "LayoutModel",
          "model_module_version": "1.2.0",
          "state": {
            "_model_module": "@jupyter-widgets/base",
            "_model_module_version": "1.2.0",
            "_model_name": "LayoutModel",
            "_view_count": null,
            "_view_module": "@jupyter-widgets/base",
            "_view_module_version": "1.2.0",
            "_view_name": "LayoutView",
            "align_content": null,
            "align_items": null,
            "align_self": null,
            "border": null,
            "bottom": null,
            "display": null,
            "flex": null,
            "flex_flow": null,
            "grid_area": null,
            "grid_auto_columns": null,
            "grid_auto_flow": null,
            "grid_auto_rows": null,
            "grid_column": null,
            "grid_gap": null,
            "grid_row": null,
            "grid_template_areas": null,
            "grid_template_columns": null,
            "grid_template_rows": null,
            "height": null,
            "justify_content": null,
            "justify_items": null,
            "left": null,
            "margin": null,
            "max_height": null,
            "max_width": null,
            "min_height": null,
            "min_width": null,
            "object_fit": null,
            "object_position": null,
            "order": null,
            "overflow": null,
            "overflow_x": null,
            "overflow_y": null,
            "padding": null,
            "right": null,
            "top": null,
            "visibility": null,
            "width": null
          }
        },
        "c86727adf2a44520abc0bdccfe6172cb": {
          "model_module": "@jupyter-widgets/controls",
          "model_name": "DescriptionStyleModel",
          "model_module_version": "1.5.0",
          "state": {
            "_model_module": "@jupyter-widgets/controls",
            "_model_module_version": "1.5.0",
            "_model_name": "DescriptionStyleModel",
            "_view_count": null,
            "_view_module": "@jupyter-widgets/base",
            "_view_module_version": "1.2.0",
            "_view_name": "StyleView",
            "description_width": ""
          }
        },
        "e66bdae0f80c4445a40c22d9d530caa5": {
          "model_module": "@jupyter-widgets/base",
          "model_name": "LayoutModel",
          "model_module_version": "1.2.0",
          "state": {
            "_model_module": "@jupyter-widgets/base",
            "_model_module_version": "1.2.0",
            "_model_name": "LayoutModel",
            "_view_count": null,
            "_view_module": "@jupyter-widgets/base",
            "_view_module_version": "1.2.0",
            "_view_name": "LayoutView",
            "align_content": null,
            "align_items": null,
            "align_self": null,
            "border": null,
            "bottom": null,
            "display": null,
            "flex": null,
            "flex_flow": null,
            "grid_area": null,
            "grid_auto_columns": null,
            "grid_auto_flow": null,
            "grid_auto_rows": null,
            "grid_column": null,
            "grid_gap": null,
            "grid_row": null,
            "grid_template_areas": null,
            "grid_template_columns": null,
            "grid_template_rows": null,
            "height": null,
            "justify_content": null,
            "justify_items": null,
            "left": null,
            "margin": null,
            "max_height": null,
            "max_width": null,
            "min_height": null,
            "min_width": null,
            "object_fit": null,
            "object_position": null,
            "order": null,
            "overflow": null,
            "overflow_x": null,
            "overflow_y": null,
            "padding": null,
            "right": null,
            "top": null,
            "visibility": null,
            "width": null
          }
        },
        "5e565945dddd49458c74322a3b009bd1": {
          "model_module": "@jupyter-widgets/controls",
          "model_name": "ProgressStyleModel",
          "model_module_version": "1.5.0",
          "state": {
            "_model_module": "@jupyter-widgets/controls",
            "_model_module_version": "1.5.0",
            "_model_name": "ProgressStyleModel",
            "_view_count": null,
            "_view_module": "@jupyter-widgets/base",
            "_view_module_version": "1.2.0",
            "_view_name": "StyleView",
            "bar_color": null,
            "description_width": ""
          }
        },
        "3faea42259cf42ccbe0e1dceef089b29": {
          "model_module": "@jupyter-widgets/base",
          "model_name": "LayoutModel",
          "model_module_version": "1.2.0",
          "state": {
            "_model_module": "@jupyter-widgets/base",
            "_model_module_version": "1.2.0",
            "_model_name": "LayoutModel",
            "_view_count": null,
            "_view_module": "@jupyter-widgets/base",
            "_view_module_version": "1.2.0",
            "_view_name": "LayoutView",
            "align_content": null,
            "align_items": null,
            "align_self": null,
            "border": null,
            "bottom": null,
            "display": null,
            "flex": null,
            "flex_flow": null,
            "grid_area": null,
            "grid_auto_columns": null,
            "grid_auto_flow": null,
            "grid_auto_rows": null,
            "grid_column": null,
            "grid_gap": null,
            "grid_row": null,
            "grid_template_areas": null,
            "grid_template_columns": null,
            "grid_template_rows": null,
            "height": null,
            "justify_content": null,
            "justify_items": null,
            "left": null,
            "margin": null,
            "max_height": null,
            "max_width": null,
            "min_height": null,
            "min_width": null,
            "object_fit": null,
            "object_position": null,
            "order": null,
            "overflow": null,
            "overflow_x": null,
            "overflow_y": null,
            "padding": null,
            "right": null,
            "top": null,
            "visibility": null,
            "width": null
          }
        },
        "a3ac986e9a6544b2a348aafcf879e2ee": {
          "model_module": "@jupyter-widgets/controls",
          "model_name": "DescriptionStyleModel",
          "model_module_version": "1.5.0",
          "state": {
            "_model_module": "@jupyter-widgets/controls",
            "_model_module_version": "1.5.0",
            "_model_name": "DescriptionStyleModel",
            "_view_count": null,
            "_view_module": "@jupyter-widgets/base",
            "_view_module_version": "1.2.0",
            "_view_name": "StyleView",
            "description_width": ""
          }
        },
        "a1d59bcd839c467f87c3816655c8abfa": {
          "model_module": "@jupyter-widgets/controls",
          "model_name": "HBoxModel",
          "model_module_version": "1.5.0",
          "state": {
            "_dom_classes": [],
            "_model_module": "@jupyter-widgets/controls",
            "_model_module_version": "1.5.0",
            "_model_name": "HBoxModel",
            "_view_count": null,
            "_view_module": "@jupyter-widgets/controls",
            "_view_module_version": "1.5.0",
            "_view_name": "HBoxView",
            "box_style": "",
            "children": [
              "IPY_MODEL_bd17348c08b440c087606e02193b6c3b",
              "IPY_MODEL_fa16643a37b1434bbb2475493f6e22ee",
              "IPY_MODEL_91c2d71c28414a10bc1a9faaef6f361d"
            ],
            "layout": "IPY_MODEL_e946d09699fe45d08a224d919bd4b161"
          }
        },
        "bd17348c08b440c087606e02193b6c3b": {
          "model_module": "@jupyter-widgets/controls",
          "model_name": "HTMLModel",
          "model_module_version": "1.5.0",
          "state": {
            "_dom_classes": [],
            "_model_module": "@jupyter-widgets/controls",
            "_model_module_version": "1.5.0",
            "_model_name": "HTMLModel",
            "_view_count": null,
            "_view_module": "@jupyter-widgets/controls",
            "_view_module_version": "1.5.0",
            "_view_name": "HTMLView",
            "description": "",
            "description_tooltip": null,
            "layout": "IPY_MODEL_0b7267d6dcce432588022f2c403e0f67",
            "placeholder": "​",
            "style": "IPY_MODEL_3f887b34d21e4a63994963052f53fbc3",
            "value": "Downloading: 100%"
          }
        },
        "fa16643a37b1434bbb2475493f6e22ee": {
          "model_module": "@jupyter-widgets/controls",
          "model_name": "FloatProgressModel",
          "model_module_version": "1.5.0",
          "state": {
            "_dom_classes": [],
            "_model_module": "@jupyter-widgets/controls",
            "_model_module_version": "1.5.0",
            "_model_name": "FloatProgressModel",
            "_view_count": null,
            "_view_module": "@jupyter-widgets/controls",
            "_view_module_version": "1.5.0",
            "_view_name": "ProgressView",
            "bar_style": "success",
            "description": "",
            "description_tooltip": null,
            "layout": "IPY_MODEL_2fd3524f9af742cd8d0cbeec24bd27af",
            "max": 112,
            "min": 0,
            "orientation": "horizontal",
            "style": "IPY_MODEL_81fbf0a6902c4971be6aadc8752d8155",
            "value": 112
          }
        },
        "91c2d71c28414a10bc1a9faaef6f361d": {
          "model_module": "@jupyter-widgets/controls",
          "model_name": "HTMLModel",
          "model_module_version": "1.5.0",
          "state": {
            "_dom_classes": [],
            "_model_module": "@jupyter-widgets/controls",
            "_model_module_version": "1.5.0",
            "_model_name": "HTMLModel",
            "_view_count": null,
            "_view_module": "@jupyter-widgets/controls",
            "_view_module_version": "1.5.0",
            "_view_name": "HTMLView",
            "description": "",
            "description_tooltip": null,
            "layout": "IPY_MODEL_a8e81b2ba1814517b48f48d25112aec3",
            "placeholder": "​",
            "style": "IPY_MODEL_58f040d24d1545539f06feaf566896c7",
            "value": " 112/112 [00:00&lt;00:00, 6.16kB/s]"
          }
        },
        "e946d09699fe45d08a224d919bd4b161": {
          "model_module": "@jupyter-widgets/base",
          "model_name": "LayoutModel",
          "model_module_version": "1.2.0",
          "state": {
            "_model_module": "@jupyter-widgets/base",
            "_model_module_version": "1.2.0",
            "_model_name": "LayoutModel",
            "_view_count": null,
            "_view_module": "@jupyter-widgets/base",
            "_view_module_version": "1.2.0",
            "_view_name": "LayoutView",
            "align_content": null,
            "align_items": null,
            "align_self": null,
            "border": null,
            "bottom": null,
            "display": null,
            "flex": null,
            "flex_flow": null,
            "grid_area": null,
            "grid_auto_columns": null,
            "grid_auto_flow": null,
            "grid_auto_rows": null,
            "grid_column": null,
            "grid_gap": null,
            "grid_row": null,
            "grid_template_areas": null,
            "grid_template_columns": null,
            "grid_template_rows": null,
            "height": null,
            "justify_content": null,
            "justify_items": null,
            "left": null,
            "margin": null,
            "max_height": null,
            "max_width": null,
            "min_height": null,
            "min_width": null,
            "object_fit": null,
            "object_position": null,
            "order": null,
            "overflow": null,
            "overflow_x": null,
            "overflow_y": null,
            "padding": null,
            "right": null,
            "top": null,
            "visibility": null,
            "width": null
          }
        },
        "0b7267d6dcce432588022f2c403e0f67": {
          "model_module": "@jupyter-widgets/base",
          "model_name": "LayoutModel",
          "model_module_version": "1.2.0",
          "state": {
            "_model_module": "@jupyter-widgets/base",
            "_model_module_version": "1.2.0",
            "_model_name": "LayoutModel",
            "_view_count": null,
            "_view_module": "@jupyter-widgets/base",
            "_view_module_version": "1.2.0",
            "_view_name": "LayoutView",
            "align_content": null,
            "align_items": null,
            "align_self": null,
            "border": null,
            "bottom": null,
            "display": null,
            "flex": null,
            "flex_flow": null,
            "grid_area": null,
            "grid_auto_columns": null,
            "grid_auto_flow": null,
            "grid_auto_rows": null,
            "grid_column": null,
            "grid_gap": null,
            "grid_row": null,
            "grid_template_areas": null,
            "grid_template_columns": null,
            "grid_template_rows": null,
            "height": null,
            "justify_content": null,
            "justify_items": null,
            "left": null,
            "margin": null,
            "max_height": null,
            "max_width": null,
            "min_height": null,
            "min_width": null,
            "object_fit": null,
            "object_position": null,
            "order": null,
            "overflow": null,
            "overflow_x": null,
            "overflow_y": null,
            "padding": null,
            "right": null,
            "top": null,
            "visibility": null,
            "width": null
          }
        },
        "3f887b34d21e4a63994963052f53fbc3": {
          "model_module": "@jupyter-widgets/controls",
          "model_name": "DescriptionStyleModel",
          "model_module_version": "1.5.0",
          "state": {
            "_model_module": "@jupyter-widgets/controls",
            "_model_module_version": "1.5.0",
            "_model_name": "DescriptionStyleModel",
            "_view_count": null,
            "_view_module": "@jupyter-widgets/base",
            "_view_module_version": "1.2.0",
            "_view_name": "StyleView",
            "description_width": ""
          }
        },
        "2fd3524f9af742cd8d0cbeec24bd27af": {
          "model_module": "@jupyter-widgets/base",
          "model_name": "LayoutModel",
          "model_module_version": "1.2.0",
          "state": {
            "_model_module": "@jupyter-widgets/base",
            "_model_module_version": "1.2.0",
            "_model_name": "LayoutModel",
            "_view_count": null,
            "_view_module": "@jupyter-widgets/base",
            "_view_module_version": "1.2.0",
            "_view_name": "LayoutView",
            "align_content": null,
            "align_items": null,
            "align_self": null,
            "border": null,
            "bottom": null,
            "display": null,
            "flex": null,
            "flex_flow": null,
            "grid_area": null,
            "grid_auto_columns": null,
            "grid_auto_flow": null,
            "grid_auto_rows": null,
            "grid_column": null,
            "grid_gap": null,
            "grid_row": null,
            "grid_template_areas": null,
            "grid_template_columns": null,
            "grid_template_rows": null,
            "height": null,
            "justify_content": null,
            "justify_items": null,
            "left": null,
            "margin": null,
            "max_height": null,
            "max_width": null,
            "min_height": null,
            "min_width": null,
            "object_fit": null,
            "object_position": null,
            "order": null,
            "overflow": null,
            "overflow_x": null,
            "overflow_y": null,
            "padding": null,
            "right": null,
            "top": null,
            "visibility": null,
            "width": null
          }
        },
        "81fbf0a6902c4971be6aadc8752d8155": {
          "model_module": "@jupyter-widgets/controls",
          "model_name": "ProgressStyleModel",
          "model_module_version": "1.5.0",
          "state": {
            "_model_module": "@jupyter-widgets/controls",
            "_model_module_version": "1.5.0",
            "_model_name": "ProgressStyleModel",
            "_view_count": null,
            "_view_module": "@jupyter-widgets/base",
            "_view_module_version": "1.2.0",
            "_view_name": "StyleView",
            "bar_color": null,
            "description_width": ""
          }
        },
        "a8e81b2ba1814517b48f48d25112aec3": {
          "model_module": "@jupyter-widgets/base",
          "model_name": "LayoutModel",
          "model_module_version": "1.2.0",
          "state": {
            "_model_module": "@jupyter-widgets/base",
            "_model_module_version": "1.2.0",
            "_model_name": "LayoutModel",
            "_view_count": null,
            "_view_module": "@jupyter-widgets/base",
            "_view_module_version": "1.2.0",
            "_view_name": "LayoutView",
            "align_content": null,
            "align_items": null,
            "align_self": null,
            "border": null,
            "bottom": null,
            "display": null,
            "flex": null,
            "flex_flow": null,
            "grid_area": null,
            "grid_auto_columns": null,
            "grid_auto_flow": null,
            "grid_auto_rows": null,
            "grid_column": null,
            "grid_gap": null,
            "grid_row": null,
            "grid_template_areas": null,
            "grid_template_columns": null,
            "grid_template_rows": null,
            "height": null,
            "justify_content": null,
            "justify_items": null,
            "left": null,
            "margin": null,
            "max_height": null,
            "max_width": null,
            "min_height": null,
            "min_width": null,
            "object_fit": null,
            "object_position": null,
            "order": null,
            "overflow": null,
            "overflow_x": null,
            "overflow_y": null,
            "padding": null,
            "right": null,
            "top": null,
            "visibility": null,
            "width": null
          }
        },
        "58f040d24d1545539f06feaf566896c7": {
          "model_module": "@jupyter-widgets/controls",
          "model_name": "DescriptionStyleModel",
          "model_module_version": "1.5.0",
          "state": {
            "_model_module": "@jupyter-widgets/controls",
            "_model_module_version": "1.5.0",
            "_model_name": "DescriptionStyleModel",
            "_view_count": null,
            "_view_module": "@jupyter-widgets/base",
            "_view_module_version": "1.2.0",
            "_view_name": "StyleView",
            "description_width": ""
          }
        }
      }
    }
  },
  "nbformat_minor": 0,
  "nbformat": 4,
  "cells": [
    {
      "cell_type": "markdown",
      "source": [
        "<div width=\"100%\">\n",
        "    <img width=\"100%\" src=\"https://storage.googleapis.com/kaggle-datasets-images/1232095/2056195/3da2fe161c2e35efefa75f990b545d32/dataset-cover.png\" />\n",
        "</div>"
      ],
      "metadata": {
        "id": "CDw1NJcUuVeI"
      }
    },
    {
      "cell_type": "code",
      "source": [
        "try:\n",
        "  from google.colab import drive\n",
        "  drive.mount('/content/drive')\n",
        "  colab = True\n",
        "except e:\n",
        "  colab = False\n"
      ],
      "metadata": {
        "execution": {
          "iopub.status.busy": "2023-01-20T04:57:18.572188Z",
          "iopub.execute_input": "2023-01-20T04:57:18.572545Z",
          "iopub.status.idle": "2023-01-20T04:57:18.580612Z",
          "shell.execute_reply.started": "2023-01-20T04:57:18.572508Z",
          "shell.execute_reply": "2023-01-20T04:57:18.579793Z"
        },
        "trusted": true,
        "colab": {
          "base_uri": "https://localhost:8080/"
        },
        "id": "gnTSeRdxuVeq",
        "outputId": "f621cfc6-1594-468d-b004-416484dc8468"
      },
      "execution_count": 1,
      "outputs": [
        {
          "output_type": "stream",
          "name": "stdout",
          "text": [
            "Mounted at /content/drive\n"
          ]
        }
      ]
    },
    {
      "cell_type": "code",
      "source": [
        "import numpy as np\n",
        "import pandas as pd\n",
        "if colab: \n",
        "  !pip install transformers\n",
        "from transformers import AutoTokenizer\n",
        "\n",
        "from tqdm import tqdm\n",
        "import tensorflow as tf\n",
        "\n",
        "import matplotlib.pyplot as plt"
      ],
      "metadata": {
        "_uuid": "8f2839f25d086af736a60e9eeb907d3b93b6e0e5",
        "_cell_guid": "b1076dfc-b9ad-4769-8c92-a6c4dae69d19",
        "_kg_hide-input": true,
        "_kg_hide-output": true,
        "execution": {
          "iopub.status.busy": "2023-01-20T04:57:11.372532Z",
          "iopub.execute_input": "2023-01-20T04:57:11.372930Z",
          "iopub.status.idle": "2023-01-20T04:57:18.570664Z",
          "shell.execute_reply.started": "2023-01-20T04:57:11.372817Z",
          "shell.execute_reply": "2023-01-20T04:57:18.569750Z"
        },
        "trusted": true,
        "id": "M_ti2LKOuVeh",
        "colab": {
          "base_uri": "https://localhost:8080/"
        },
        "outputId": "bb03fb1b-19ee-4276-f852-9a35dde603bd"
      },
      "execution_count": 2,
      "outputs": [
        {
          "output_type": "stream",
          "name": "stdout",
          "text": [
            "Looking in indexes: https://pypi.org/simple, https://us-python.pkg.dev/colab-wheels/public/simple/\n",
            "Collecting transformers\n",
            "  Downloading transformers-4.25.1-py3-none-any.whl (5.8 MB)\n",
            "\u001b[2K     \u001b[90m━━━━━━━━━━━━━━━━━━━━━━━━━━━━━━━━━━━━━━━━\u001b[0m \u001b[32m5.8/5.8 MB\u001b[0m \u001b[31m53.5 MB/s\u001b[0m eta \u001b[36m0:00:00\u001b[0m\n",
            "\u001b[?25hCollecting tokenizers!=0.11.3,<0.14,>=0.11.1\n",
            "  Downloading tokenizers-0.13.2-cp38-cp38-manylinux_2_17_x86_64.manylinux2014_x86_64.whl (7.6 MB)\n",
            "\u001b[2K     \u001b[90m━━━━━━━━━━━━━━━━━━━━━━━━━━━━━━━━━━━━━━━━\u001b[0m \u001b[32m7.6/7.6 MB\u001b[0m \u001b[31m106.1 MB/s\u001b[0m eta \u001b[36m0:00:00\u001b[0m\n",
            "\u001b[?25hRequirement already satisfied: packaging>=20.0 in /usr/local/lib/python3.8/dist-packages (from transformers) (21.3)\n",
            "Collecting huggingface-hub<1.0,>=0.10.0\n",
            "  Downloading huggingface_hub-0.11.1-py3-none-any.whl (182 kB)\n",
            "\u001b[2K     \u001b[90m━━━━━━━━━━━━━━━━━━━━━━━━━━━━━━━━━━━━━━\u001b[0m \u001b[32m182.4/182.4 KB\u001b[0m \u001b[31m23.6 MB/s\u001b[0m eta \u001b[36m0:00:00\u001b[0m\n",
            "\u001b[?25hRequirement already satisfied: requests in /usr/local/lib/python3.8/dist-packages (from transformers) (2.25.1)\n",
            "Requirement already satisfied: filelock in /usr/local/lib/python3.8/dist-packages (from transformers) (3.9.0)\n",
            "Requirement already satisfied: regex!=2019.12.17 in /usr/local/lib/python3.8/dist-packages (from transformers) (2022.6.2)\n",
            "Requirement already satisfied: pyyaml>=5.1 in /usr/local/lib/python3.8/dist-packages (from transformers) (6.0)\n",
            "Requirement already satisfied: numpy>=1.17 in /usr/local/lib/python3.8/dist-packages (from transformers) (1.21.6)\n",
            "Requirement already satisfied: tqdm>=4.27 in /usr/local/lib/python3.8/dist-packages (from transformers) (4.64.1)\n",
            "Requirement already satisfied: typing-extensions>=3.7.4.3 in /usr/local/lib/python3.8/dist-packages (from huggingface-hub<1.0,>=0.10.0->transformers) (4.4.0)\n",
            "Requirement already satisfied: pyparsing!=3.0.5,>=2.0.2 in /usr/local/lib/python3.8/dist-packages (from packaging>=20.0->transformers) (3.0.9)\n",
            "Requirement already satisfied: idna<3,>=2.5 in /usr/local/lib/python3.8/dist-packages (from requests->transformers) (2.10)\n",
            "Requirement already satisfied: certifi>=2017.4.17 in /usr/local/lib/python3.8/dist-packages (from requests->transformers) (2022.12.7)\n",
            "Requirement already satisfied: urllib3<1.27,>=1.21.1 in /usr/local/lib/python3.8/dist-packages (from requests->transformers) (1.24.3)\n",
            "Requirement already satisfied: chardet<5,>=3.0.2 in /usr/local/lib/python3.8/dist-packages (from requests->transformers) (4.0.0)\n",
            "Installing collected packages: tokenizers, huggingface-hub, transformers\n",
            "Successfully installed huggingface-hub-0.11.1 tokenizers-0.13.2 transformers-4.25.1\n"
          ]
        }
      ]
    },
    {
      "cell_type": "markdown",
      "source": [
        "<h1 id=\"dataset\" style=\"color:#black; background:#a6e22d; border:0.5px dotted #black;\"> \n",
        "    <center>Dataset\n",
        "        <a class=\"anchor-link\" href=\"#dataset\" target=\"_self\">¶</a>\n",
        "    </center>\n",
        "</h1>"
      ],
      "metadata": {
        "id": "5qSjq8uJuVel"
      }
    },
    {
      "cell_type": "code",
      "source": [
        "def format(file):\n",
        "  with open(file) as f:\n",
        "      # read csv file as pandas dataframe\n",
        "      df = pd.read_csv(f, sep=',', \n",
        "                       # names=['Sentence_id', 'Word', 'Tag']\n",
        "                      )\n",
        "      # group by sentence_id and create list of words and list of tags\n",
        "      df = df.groupby('sentence_id').agg({'word': lambda x: list(x), 'tag': lambda x: list(x)})\n",
        "      # create pair of 2nd and 3rd column (word , tag)\n",
        "      df['word_tag'] = df.apply(lambda x: list(zip(x['word'], x['tag'])), axis=1)\n",
        "      # create list of pair of 2nd and 3rd column (word , tag)\n",
        "      word_tag_list = df['word_tag'].tolist()\n",
        "      \n",
        "      return word_tag_list\n",
        "\n",
        "if colab : file = '/content/drive/MyDrive/NLP_Hackathon_2023/train_generic.csv'\n",
        "else : file = 'data/train_generic.csv'\n",
        "samples = format(file)"
      ],
      "metadata": {
        "execution": {
          "iopub.status.busy": "2023-01-20T04:57:49.389987Z",
          "iopub.execute_input": "2023-01-20T04:57:49.390378Z",
          "iopub.status.idle": "2023-01-20T04:57:49.808503Z",
          "shell.execute_reply.started": "2023-01-20T04:57:49.390346Z",
          "shell.execute_reply": "2023-01-20T04:57:49.807658Z"
        },
        "trusted": true,
        "id": "hVWgiYz1uVet"
      },
      "execution_count": 3,
      "outputs": []
    },
    {
      "cell_type": "code",
      "source": [
        "print(samples[:5])"
      ],
      "metadata": {
        "execution": {
          "iopub.status.busy": "2023-01-20T05:02:15.151312Z",
          "iopub.execute_input": "2023-01-20T05:02:15.151652Z",
          "iopub.status.idle": "2023-01-20T05:02:15.286654Z",
          "shell.execute_reply.started": "2023-01-20T05:02:15.151622Z",
          "shell.execute_reply": "2023-01-20T05:02:15.285613Z"
        },
        "collapsed": true,
        "jupyter": {
          "outputs_hidden": true
        },
        "trusted": true,
        "colab": {
          "base_uri": "https://localhost:8080/"
        },
        "id": "2fLT3HYquVev",
        "outputId": "bed577c4-17cc-4d64-bff5-48987b8c57df"
      },
      "execution_count": 4,
      "outputs": [
        {
          "output_type": "stream",
          "name": "stdout",
          "text": [
            "[[('তার', 'O'), ('মৃত্যুর', 'O'), ('দশ', 'O'), ('দিন', 'O'), ('পর,', 'O'), ('১১৫', 'O'), ('কৃষ্ণাঙ্গ', 'O'), ('উচ্চ', 'O'), ('বিদ্যালয়ের', 'O'), ('শিক্ষার্থীরা', 'O'), ('তার', 'O'), ('হত্যার', 'O'), ('প্রতিবাদে', 'O'), ('ম্যাককম্ব', 'B-LOC'), ('এর', 'O'), ('মাধ্যমে', 'O'), ('মিছিল', 'O'), ('করেছে।', 'O')], [('ব্রাংম্যান', 'O'), ('ডাম্পসন', 'O'), ('১৪০০', 'O'), ('সালে', 'O'), ('আন্তর্জাতিক', 'B-GRP'), ('রেড', 'I-GRP'), ('ক্রস', 'I-GRP'), ('ও', 'I-GRP'), ('রেড', 'I-GRP'), ('ক্রিসেন্ট', 'I-GRP'), ('আন্দোলন', 'I-GRP'), ('এর', 'O'), ('স্বেচ্ছাসেবক', 'O'), ('হিসেবে', 'O'), ('শুরু', 'O'), ('করেছিলেন।', 'O')], [('রাজকীয়', 'O'), ('বাসস্থান', 'O'), ('থেকে', 'O'), ('রাজ্যের', 'O'), ('মন্দির', 'O'), ('পর্যন্ত', 'O'), ('স্বল্প', 'O'), ('দূরত্ব', 'O'), ('ভ্রমণ', 'O'), ('করে,', 'O'), ('রাজা', 'O'), ('মিছিলে', 'O'), ('অনেক', 'O'), ('ধারক', 'O'), ('নিয়ে', 'O'), ('পালকি', 'B-PROD'), ('বসবেন।', 'O')], [('তিনি', 'O'), ('তৃতীয়', 'O'), ('সহস্রাব্দে', 'O'), ('গ্র্যান্ড', 'B-CW'), ('ওলে', 'I-CW'), ('অপ্রি', 'I-CW'), ('এ', 'O'), ('অন্তর্ভুক্ত', 'O'), ('হওয়া', 'O'), ('প্রথম', 'O'), ('ব্যক্তি', 'O'), ('হয়েছিলেন।', 'O')], [('প্রায়', 'O'), ('১৮,০০০', 'O'), ('এর', 'O'), ('উচ্চতর', 'O'), ('অনুপাত', 'O'), ('দোআঁশ', 'B-PROD'), ('মাটিতে', 'O'), ('পরিমাপ', 'O'), ('করা', 'O'), ('হয়েছিল।', 'O')]]\n"
          ]
        }
      ]
    },
    {
      "cell_type": "code",
      "source": [
        "schema = ['_'] + sorted({tag for sentence in samples \n",
        "                             for _, tag in sentence})"
      ],
      "metadata": {
        "id": "Nm9S5FhbyHvc"
      },
      "execution_count": 5,
      "outputs": []
    },
    {
      "cell_type": "code",
      "source": [
        "print(schema)"
      ],
      "metadata": {
        "id": "If3gc_p2hDYA",
        "colab": {
          "base_uri": "https://localhost:8080/"
        },
        "outputId": "03251dfc-b1f0-40a5-d480-2fd39b60bae2"
      },
      "execution_count": 6,
      "outputs": [
        {
          "output_type": "stream",
          "name": "stdout",
          "text": [
            "['_', 'B-CORP', 'B-CW', 'B-GRP', 'B-LOC', 'B-PER', 'B-PROD', 'I-CORP', 'I-CW', 'I-GRP', 'I-LOC', 'I-PER', 'I-PROD', 'O']\n"
          ]
        }
      ]
    },
    {
      "cell_type": "markdown",
      "source": [
        "<h1 id=\"model\" style=\"color:#black; background:#ef60b4; border:0.5px dotted #black;\"> \n",
        "    <center>Model\n",
        "        <a class=\"anchor-link\" href=\"#model\" target=\"_self\">¶</a>\n",
        "    </center>\n",
        "</h1>"
      ],
      "metadata": {
        "id": "PlvGjJDjuVe0"
      }
    },
    {
      "cell_type": "code",
      "source": [
        "from transformers import AutoConfig, TFAutoModelForTokenClassification , AutoTokenizer\n",
        "\n",
        "#MODEL_NAME = 'bert-base-cased' \n",
        "MODEL_NAME = \"csebuetnlp/banglabert\"\n",
        "\n",
        "continue_train = False\n",
        "\n",
        "config = AutoConfig.from_pretrained(MODEL_NAME, num_labels=len(schema)) \n",
        "if continue_train:\n",
        "  old_model = '/content/drive/MyDrive/NLP_Hackathon_2023/csebuetnlp-banglabert0.3975291115655302.h5'\n",
        "  model = TFAutoModelForTokenClassification.from_pretrained(old_model, from_pt=False,\n",
        "                                                           config=config)\n",
        "else:\n",
        "  model = TFAutoModelForTokenClassification.from_pretrained(MODEL_NAME , from_pt=True,\n",
        "                                                           config=config)\n",
        "# from keras.models import load_model\n",
        "# model = load_model(old_model)\n",
        "# model = TFAutoModelForTokenClassification.from_pretrained(model, from_pt=True,\n",
        "#                                                             config=config)\n",
        "\n",
        "model.summary()"
      ],
      "metadata": {
        "execution": {
          "iopub.status.busy": "2023-01-20T05:02:15.287865Z",
          "iopub.execute_input": "2023-01-20T05:02:15.288176Z",
          "iopub.status.idle": "2023-01-20T05:02:49.475877Z",
          "shell.execute_reply.started": "2023-01-20T05:02:15.288147Z",
          "shell.execute_reply": "2023-01-20T05:02:49.474830Z"
        },
        "trusted": true,
        "colab": {
          "base_uri": "https://localhost:8080/",
          "height": 487,
          "referenced_widgets": [
            "dcdcc3b1b9524543897e232d41b81796",
            "e7c8a037876d492fac0fe5617710a989",
            "1746e6d7341d41399c1ef4dd12726569",
            "676515cd33da48c5966c13d226b14dd7",
            "7b4ec6f5d80f4ec9b8211216de5c2572",
            "aec8b54099394809ad698f5819210bac",
            "a99a28bf9d864ad693932d445f6f6d8c",
            "e7d434eac92a484f96875178f20dbed9",
            "7cf98d7606b34a3fa35b64edbc47ac91",
            "65a28ac1a5654737b43ebd515f2e6147",
            "003b1bd76bbb47a9ab9937abc9f894a7",
            "ec047bd7dd584b3581ae2c465bf0444d",
            "6f84c7f12fcd4f1fbd7807e1fada517d",
            "98d3ed6302ff4feb8a0e7676cf1fcfc8",
            "ad21b45d28864970ad5c2d8c0657ed62",
            "85bc93c359a2483d8cbe7d736018f00e",
            "5f10786f59b64e94aa08a1afa27a35b5",
            "73f2e0a8815a4e0ebef0997eb0b56550",
            "199eeac057e341adbb35dcef29b7bbe5",
            "f98b9e9465b34f21bf24632719b0f801",
            "63e8668a865243bf947b5d484c9a583b",
            "586ef5c006fd4294bc363a8b5dd6e81d"
          ]
        },
        "id": "AkQCzZkOuVe3",
        "outputId": "5f49a69f-9bbe-4062-f7d1-b5c47143e9fd"
      },
      "execution_count": 7,
      "outputs": [
        {
          "output_type": "display_data",
          "data": {
            "text/plain": [
              "Downloading:   0%|          | 0.00/586 [00:00<?, ?B/s]"
            ],
            "application/vnd.jupyter.widget-view+json": {
              "version_major": 2,
              "version_minor": 0,
              "model_id": "dcdcc3b1b9524543897e232d41b81796"
            }
          },
          "metadata": {}
        },
        {
          "output_type": "display_data",
          "data": {
            "text/plain": [
              "Downloading:   0%|          | 0.00/443M [00:00<?, ?B/s]"
            ],
            "application/vnd.jupyter.widget-view+json": {
              "version_major": 2,
              "version_minor": 0,
              "model_id": "ec047bd7dd584b3581ae2c465bf0444d"
            }
          },
          "metadata": {}
        },
        {
          "output_type": "stream",
          "name": "stderr",
          "text": [
            "Some weights of the PyTorch model were not used when initializing the TF 2.0 model TFElectraForTokenClassification: ['discriminator_predictions.dense_prediction.weight', 'electra.embeddings.position_ids', 'discriminator_predictions.dense.weight', 'discriminator_predictions.dense_prediction.bias', 'discriminator_predictions.dense.bias']\n",
            "- This IS expected if you are initializing TFElectraForTokenClassification from a PyTorch model trained on another task or with another architecture (e.g. initializing a TFBertForSequenceClassification model from a BertForPreTraining model).\n",
            "- This IS NOT expected if you are initializing TFElectraForTokenClassification from a PyTorch model that you expect to be exactly identical (e.g. initializing a TFBertForSequenceClassification model from a BertForSequenceClassification model).\n",
            "Some weights or buffers of the TF 2.0 model TFElectraForTokenClassification were not initialized from the PyTorch model and are newly initialized: ['classifier.weight', 'classifier.bias']\n",
            "You should probably TRAIN this model on a down-stream task to be able to use it for predictions and inference.\n"
          ]
        },
        {
          "output_type": "stream",
          "name": "stdout",
          "text": [
            "Model: \"tf_electra_for_token_classification\"\n",
            "_________________________________________________________________\n",
            " Layer (type)                Output Shape              Param #   \n",
            "=================================================================\n",
            " electra (TFElectraMainLayer  multiple                 110026752 \n",
            " )                                                               \n",
            "                                                                 \n",
            " dropout_37 (Dropout)        multiple                  0         \n",
            "                                                                 \n",
            " classifier (Dense)          multiple                  10766     \n",
            "                                                                 \n",
            "=================================================================\n",
            "Total params: 110,037,518\n",
            "Trainable params: 110,037,518\n",
            "Non-trainable params: 0\n",
            "_________________________________________________________________\n"
          ]
        }
      ]
    },
    {
      "cell_type": "code",
      "source": [
        "#print(samples[:5])"
      ],
      "metadata": {
        "id": "YULSMmF9XLzQ"
      },
      "execution_count": 8,
      "outputs": []
    },
    {
      "cell_type": "markdown",
      "source": [
        "<h1 id=\"tokenize\" style=\"color:#black; background:#fc9720; border:0.5px dotted #black;\"> \n",
        "    <center>Tokenize\n",
        "        <a class=\"anchor-link\" href=\"#tokenize\" target=\"_self\">¶</a>\n",
        "    </center>\n",
        "</h1>"
      ],
      "metadata": {
        "id": "a8qj4uFBuVe8"
      }
    },
    {
      "cell_type": "code",
      "source": [
        "tokenizer = AutoTokenizer.from_pretrained(MODEL_NAME)\n",
        "\n",
        "def tokenize_sample(sample):\n",
        "    seq = [\n",
        "               (subtoken, tag)\n",
        "               for token, tag in sample\n",
        "               for subtoken in tokenizer(token)['input_ids'][1:-1]\n",
        "           ]\n",
        "    return [(3, 'O')] + seq + [(4, 'O')]\n",
        "\n",
        "def preprocess(samples):\n",
        "    tag_index = {tag: i for i, tag in enumerate(schema)}\n",
        "    tokenized_samples = list(tqdm(map(tokenize_sample, samples)))\n",
        "    max_len = max(map(len, tokenized_samples))\n",
        "    X = np.zeros((len(samples), max_len), dtype=np.int32)\n",
        "    y = np.zeros((len(samples), max_len), dtype=np.int32)\n",
        "    for i, sentence in enumerate(tokenized_samples):\n",
        "        for j, (subtoken_id, tag) in enumerate(sentence):\n",
        "            X[i, j] = subtoken_id\n",
        "            y[i,j] = tag_index[tag]\n",
        "    return X, y\n",
        "\n",
        "X, y = preprocess(samples)\n",
        "print(X[:2] , y[:2])\n",
        "\n",
        "# split into train and test\n",
        "from sklearn.model_selection import train_test_split\n",
        "#train_samples, test_samples = train_test_split(X , y, test_size=0.2, random_state=42 )\n",
        "X_train, X_test, y_train, y_test = train_test_split(X , y, test_size=0.2, random_state=42 )\n",
        "# X_train, y_train = preprocess(train_samples)\n",
        "# X_test, y_test = preprocess(test_samples)\n",
        "\n",
        "if colab: file = '/content/drive/MyDrive/NLP_Hackathon_2023/dev_generic.csv'\n",
        "else : file = 'data/dev_generic.csv'\n",
        "\n",
        "dev_samples = format(file)\n",
        "X_valid, y_valid = preprocess(dev_samples)"
      ],
      "metadata": {
        "execution": {
          "iopub.status.busy": "2023-01-20T05:02:49.478240Z",
          "iopub.execute_input": "2023-01-20T05:02:49.478596Z",
          "iopub.status.idle": "2023-01-20T05:03:09.265001Z",
          "shell.execute_reply.started": "2023-01-20T05:02:49.478557Z",
          "shell.execute_reply": "2023-01-20T05:03:09.264076Z"
        },
        "trusted": true,
        "colab": {
          "base_uri": "https://localhost:8080/",
          "height": 482,
          "referenced_widgets": [
            "5564026d2e1b49f387578a3a49c122c9",
            "b8bc10f41fcf418ba9895399bd6e4812",
            "d00244cc46764bb282239fa3e1720309",
            "2eaebe9bda2e46d188708a32f7ba4d1d",
            "d4a158d8bfed4042a73296f6a5f79882",
            "3e41d54d2d6640f5b5642470728049e6",
            "5b0a6a3c7be345c29c694cab280cee5a",
            "57b144f61d0a43c89a070d6d661920fb",
            "2dbc58f909114870b632a9348dee19e2",
            "70134483c1814cde9e459f9e26cdbd3d",
            "4856bc429d6b47d0918e0c58e9a3d5af",
            "b2f5cef42fca496c844b95ab4b657658",
            "ffe73eeab316445bbee813637158e94f",
            "e2feb320dc2544be995eccf2241ae848",
            "e513b29d3ab74a21a636c86a90810577",
            "90546719e74340288411bb5e442e2be2",
            "dcbc6ab70fc24d4d96c1b2d5ae1ee46d",
            "c86727adf2a44520abc0bdccfe6172cb",
            "e66bdae0f80c4445a40c22d9d530caa5",
            "5e565945dddd49458c74322a3b009bd1",
            "3faea42259cf42ccbe0e1dceef089b29",
            "a3ac986e9a6544b2a348aafcf879e2ee",
            "a1d59bcd839c467f87c3816655c8abfa",
            "bd17348c08b440c087606e02193b6c3b",
            "fa16643a37b1434bbb2475493f6e22ee",
            "91c2d71c28414a10bc1a9faaef6f361d",
            "e946d09699fe45d08a224d919bd4b161",
            "0b7267d6dcce432588022f2c403e0f67",
            "3f887b34d21e4a63994963052f53fbc3",
            "2fd3524f9af742cd8d0cbeec24bd27af",
            "81fbf0a6902c4971be6aadc8752d8155",
            "a8e81b2ba1814517b48f48d25112aec3",
            "58f040d24d1545539f06feaf566896c7"
          ]
        },
        "id": "IgfZuB1FuVe-",
        "outputId": "a7067b67-3592-4640-9a3b-e85b01ea4386"
      },
      "execution_count": 9,
      "outputs": [
        {
          "output_type": "display_data",
          "data": {
            "text/plain": [
              "Downloading:   0%|          | 0.00/119 [00:00<?, ?B/s]"
            ],
            "application/vnd.jupyter.widget-view+json": {
              "version_major": 2,
              "version_minor": 0,
              "model_id": "5564026d2e1b49f387578a3a49c122c9"
            }
          },
          "metadata": {}
        },
        {
          "output_type": "display_data",
          "data": {
            "text/plain": [
              "Downloading:   0%|          | 0.00/528k [00:00<?, ?B/s]"
            ],
            "application/vnd.jupyter.widget-view+json": {
              "version_major": 2,
              "version_minor": 0,
              "model_id": "b2f5cef42fca496c844b95ab4b657658"
            }
          },
          "metadata": {}
        },
        {
          "output_type": "display_data",
          "data": {
            "text/plain": [
              "Downloading:   0%|          | 0.00/112 [00:00<?, ?B/s]"
            ],
            "application/vnd.jupyter.widget-view+json": {
              "version_major": 2,
              "version_minor": 0,
              "model_id": "a1d59bcd839c467f87c3816655c8abfa"
            }
          },
          "metadata": {}
        },
        {
          "output_type": "stream",
          "name": "stderr",
          "text": [
            "15300it [00:10, 1411.13it/s]\n"
          ]
        },
        {
          "output_type": "stream",
          "name": "stdout",
          "text": [
            "[[    3   826  3163  1866  1001   804    16 25193 23291  2353  6880  7057\n",
            "    826  4803  7666  7421  1321   786   919  1744  4781  1333   205     4\n",
            "      0     0     0     0     0     0     0     0     0     0     0     0\n",
            "      0     0     0     0     0     0     0     0     0     0     0     0\n",
            "      0     0     0     0     0     0     0     0     0     0     0     0\n",
            "      0     0     0     0     0     0     0     0     0     0     0     0]\n",
            " [    3 18209   434  2342 23546   843  3611 19972   489  1460  2760  8280\n",
            "  11686   219  8280 11501  1290  3229   919 17287  1365  1116  2494   205\n",
            "      4     0     0     0     0     0     0     0     0     0     0     0\n",
            "      0     0     0     0     0     0     0     0     0     0     0     0\n",
            "      0     0     0     0     0     0     0     0     0     0     0     0\n",
            "      0     0     0     0     0     0     0     0     0     0     0     0]] [[13 13 13 13 13 13 13 13 13 13 13 13 13 13 13  4  4  4 13 13 13 13 13 13\n",
            "   0  0  0  0  0  0  0  0  0  0  0  0  0  0  0  0  0  0  0  0  0  0  0  0\n",
            "   0  0  0  0  0  0  0  0  0  0  0  0  0  0  0  0  0  0  0  0  0  0  0  0]\n",
            " [13 13 13 13 13 13 13 13 13 13  3  9  9  9  9  9  9  9 13 13 13 13 13 13\n",
            "  13  0  0  0  0  0  0  0  0  0  0  0  0  0  0  0  0  0  0  0  0  0  0  0\n",
            "   0  0  0  0  0  0  0  0  0  0  0  0  0  0  0  0  0  0  0  0  0  0  0  0]]\n"
          ]
        },
        {
          "output_type": "stream",
          "name": "stderr",
          "text": [
            "800it [00:01, 752.11it/s]\n"
          ]
        }
      ]
    },
    {
      "cell_type": "code",
      "source": [
        "y_valid.shape"
      ],
      "metadata": {
        "execution": {
          "iopub.status.busy": "2023-01-20T05:03:09.266714Z",
          "iopub.execute_input": "2023-01-20T05:03:09.267266Z",
          "iopub.status.idle": "2023-01-20T05:03:09.274576Z",
          "shell.execute_reply.started": "2023-01-20T05:03:09.267224Z",
          "shell.execute_reply": "2023-01-20T05:03:09.273555Z"
        },
        "trusted": true,
        "id": "jcRQ87ZyuVfG",
        "colab": {
          "base_uri": "https://localhost:8080/"
        },
        "outputId": "8460964d-20af-4b03-ee0b-bc4841409085"
      },
      "execution_count": 10,
      "outputs": [
        {
          "output_type": "execute_result",
          "data": {
            "text/plain": [
              "(800, 46)"
            ]
          },
          "metadata": {},
          "execution_count": 10
        }
      ]
    },
    {
      "cell_type": "code",
      "source": [
        "y_test.shape"
      ],
      "metadata": {
        "id": "K5UGB0L7IBjM",
        "colab": {
          "base_uri": "https://localhost:8080/"
        },
        "outputId": "665f8097-77df-41b3-d683-17c47d89b525"
      },
      "execution_count": 11,
      "outputs": [
        {
          "output_type": "execute_result",
          "data": {
            "text/plain": [
              "(3060, 72)"
            ]
          },
          "metadata": {},
          "execution_count": 11
        }
      ]
    },
    {
      "cell_type": "code",
      "source": [
        "from keras import backend as K\n",
        "\n",
        "# def f1(y_true, y_pred):\n",
        "#     def recall(y_true, y_pred):\n",
        "#         true_positives = K.sum(K.round(K.clip(y_true * y_pred, 0, 1)))\n",
        "#         possible_positives = K.sum(K.round(K.clip(y_true, 0, 1)))\n",
        "#         recall = true_positives / (possible_positives + K.epsilon())\n",
        "#         return recall\n",
        "\n",
        "#     def precision(y_true, y_pred):\n",
        "#         true_positives = K.sum(K.round(K.clip(y_true * y_pred, 0, 1)))\n",
        "#         predicted_positives = K.sum(K.round(K.clip(y_pred, 0, 1)))\n",
        "#         precision = true_positives / (predicted_positives + K.epsilon())\n",
        "#         return precision\n",
        "\n",
        "#     precision = precision(y_true, y_pred)\n",
        "#     recall = recall(y_true, y_pred)\n",
        "#     return 2*((precision*recall)/(precision+recall+K.epsilon()))\n",
        "\n",
        "### Define F1 measures: F1 = 2 * (precision * recall) / (precision + recall)\n",
        "\n",
        "def custom_f1(y_true, y_pred):\n",
        "    def recall_m(y_true, y_pred):\n",
        "        TP = K.sum(K.round(K.clip(y_true * y_pred, 0, 1)))\n",
        "        Positives = K.sum(K.round(K.clip(y_true, 0, 1)))\n",
        "\n",
        "        recall = TP / (Positives+K.epsilon())\n",
        "        return recall\n",
        "\n",
        "\n",
        "    def precision_m(y_true, y_pred):\n",
        "        TP = K.sum(K.round(K.clip(y_true * y_pred, 0, 1)))\n",
        "        Pred_Positives = K.sum(K.round(K.clip(y_pred, 0, 1)))\n",
        "\n",
        "        precision = TP / (Pred_Positives+K.epsilon())\n",
        "        return precision\n",
        "\n",
        "    precision, recall = precision_m(y_true, y_pred), recall_m(y_true, y_pred)\n",
        "\n",
        "    return 2*((precision*recall)/(precision+recall+K.epsilon()))\n"
      ],
      "metadata": {
        "id": "bECfwIKF3tm_"
      },
      "execution_count": 12,
      "outputs": []
    },
    {
      "cell_type": "markdown",
      "source": [
        "<h1 id=\"training\" style=\"color:#black; background:#bababa; border:0.5px dotted #black;\"> \n",
        "    <center>Training\n",
        "        <a class=\"anchor-link\" href=\"#training\" target=\"_self\">¶</a>\n",
        "    </center>\n",
        "</h1>"
      ],
      "metadata": {
        "id": "d_jFcSfxuVfI"
      }
    },
    {
      "cell_type": "code",
      "source": [
        "EPOCHS=35\n",
        "BATCH_SIZE=28\n",
        "\n",
        "optimizer = tf.keras.optimizers.Adam(lr=0.000001)\n",
        "loss = tf.keras.losses.SparseCategoricalCrossentropy(from_logits=True)\n",
        "model.compile(optimizer=optimizer, loss=loss, \n",
        "              metrics=[\"accuracy\" , \n",
        "              # tf.keras.metrics.Precision(name=\"precision\")\n",
        "              ]\n",
        "              #metrics = \"accuracy\"\n",
        ")\n",
        "history = model.fit(tf.constant(X_train), tf.constant(y_train),\n",
        "                    validation_data=(X_test, y_test), \n",
        "                    epochs=EPOCHS, \n",
        "                    batch_size=BATCH_SIZE)"
      ],
      "metadata": {
        "execution": {
          "iopub.status.busy": "2023-01-20T05:03:09.275862Z",
          "iopub.execute_input": "2023-01-20T05:03:09.276234Z"
        },
        "trusted": true,
        "id": "gpzcmyXfuVfJ",
        "colab": {
          "base_uri": "https://localhost:8080/"
        },
        "outputId": "bb3f031a-b310-4649-912e-676441cc0ed5"
      },
      "execution_count": 14,
      "outputs": [
        {
          "output_type": "stream",
          "name": "stdout",
          "text": [
            "Epoch 1/35\n",
            "438/438 [==============================] - 212s 448ms/step - loss: 0.5957 - accuracy: 0.8838 - val_loss: 0.3155 - val_accuracy: 0.9451\n",
            "Epoch 2/35\n",
            "438/438 [==============================] - 193s 441ms/step - loss: 0.2983 - accuracy: 0.9491 - val_loss: 0.2351 - val_accuracy: 0.9502\n",
            "Epoch 3/35\n",
            "438/438 [==============================] - 193s 441ms/step - loss: 0.2379 - accuracy: 0.9503 - val_loss: 0.2042 - val_accuracy: 0.9505\n",
            "Epoch 4/35\n",
            "438/438 [==============================] - 193s 441ms/step - loss: 0.2120 - accuracy: 0.9509 - val_loss: 0.1879 - val_accuracy: 0.9544\n",
            "Epoch 5/35\n",
            "438/438 [==============================] - 193s 441ms/step - loss: 0.1955 - accuracy: 0.9541 - val_loss: 0.1758 - val_accuracy: 0.9564\n",
            "Epoch 6/35\n",
            "438/438 [==============================] - 193s 441ms/step - loss: 0.1812 - accuracy: 0.9574 - val_loss: 0.1633 - val_accuracy: 0.9578\n",
            "Epoch 7/35\n",
            "438/438 [==============================] - 193s 441ms/step - loss: 0.1677 - accuracy: 0.9601 - val_loss: 0.1500 - val_accuracy: 0.9605\n",
            "Epoch 8/35\n",
            "438/438 [==============================] - 193s 440ms/step - loss: 0.1555 - accuracy: 0.9623 - val_loss: 0.1393 - val_accuracy: 0.9635\n",
            "Epoch 9/35\n",
            "438/438 [==============================] - 193s 441ms/step - loss: 0.1443 - accuracy: 0.9651 - val_loss: 0.1325 - val_accuracy: 0.9658\n",
            "Epoch 10/35\n",
            "438/438 [==============================] - 193s 442ms/step - loss: 0.1349 - accuracy: 0.9673 - val_loss: 0.1219 - val_accuracy: 0.9683\n",
            "Epoch 11/35\n",
            "438/438 [==============================] - 193s 440ms/step - loss: 0.1264 - accuracy: 0.9689 - val_loss: 0.1153 - val_accuracy: 0.9692\n",
            "Epoch 12/35\n",
            "438/438 [==============================] - 193s 441ms/step - loss: 0.1186 - accuracy: 0.9703 - val_loss: 0.1088 - val_accuracy: 0.9705\n",
            "Epoch 13/35\n",
            "438/438 [==============================] - 193s 440ms/step - loss: 0.1121 - accuracy: 0.9715 - val_loss: 0.1027 - val_accuracy: 0.9723\n",
            "Epoch 14/35\n",
            "438/438 [==============================] - 193s 441ms/step - loss: 0.1058 - accuracy: 0.9730 - val_loss: 0.0983 - val_accuracy: 0.9733\n",
            "Epoch 15/35\n",
            "438/438 [==============================] - 193s 440ms/step - loss: 0.1002 - accuracy: 0.9741 - val_loss: 0.0937 - val_accuracy: 0.9737\n",
            "Epoch 16/35\n",
            "438/438 [==============================] - 193s 441ms/step - loss: 0.0944 - accuracy: 0.9755 - val_loss: 0.0897 - val_accuracy: 0.9749\n",
            "Epoch 17/35\n",
            "438/438 [==============================] - 193s 440ms/step - loss: 0.0894 - accuracy: 0.9769 - val_loss: 0.0858 - val_accuracy: 0.9759\n",
            "Epoch 18/35\n",
            "438/438 [==============================] - 193s 441ms/step - loss: 0.0850 - accuracy: 0.9779 - val_loss: 0.0818 - val_accuracy: 0.9772\n",
            "Epoch 19/35\n",
            "438/438 [==============================] - 193s 440ms/step - loss: 0.0808 - accuracy: 0.9789 - val_loss: 0.0803 - val_accuracy: 0.9774\n",
            "Epoch 20/35\n",
            "438/438 [==============================] - 192s 440ms/step - loss: 0.0768 - accuracy: 0.9798 - val_loss: 0.0756 - val_accuracy: 0.9786\n",
            "Epoch 21/35\n",
            "438/438 [==============================] - 193s 440ms/step - loss: 0.0731 - accuracy: 0.9807 - val_loss: 0.0740 - val_accuracy: 0.9790\n",
            "Epoch 22/35\n",
            "438/438 [==============================] - 193s 440ms/step - loss: 0.0699 - accuracy: 0.9816 - val_loss: 0.0720 - val_accuracy: 0.9797\n",
            "Epoch 23/35\n",
            "438/438 [==============================] - 193s 440ms/step - loss: 0.0670 - accuracy: 0.9823 - val_loss: 0.0698 - val_accuracy: 0.9800\n",
            "Epoch 24/35\n",
            "438/438 [==============================] - 193s 441ms/step - loss: 0.0642 - accuracy: 0.9829 - val_loss: 0.0680 - val_accuracy: 0.9805\n",
            "Epoch 25/35\n",
            "438/438 [==============================] - 193s 440ms/step - loss: 0.0617 - accuracy: 0.9833 - val_loss: 0.0673 - val_accuracy: 0.9806\n",
            "Epoch 26/35\n",
            "438/438 [==============================] - 193s 441ms/step - loss: 0.0592 - accuracy: 0.9839 - val_loss: 0.0661 - val_accuracy: 0.9809\n",
            "Epoch 27/35\n",
            "438/438 [==============================] - 193s 441ms/step - loss: 0.0575 - accuracy: 0.9843 - val_loss: 0.0646 - val_accuracy: 0.9814\n",
            "Epoch 28/35\n",
            "438/438 [==============================] - 193s 440ms/step - loss: 0.0554 - accuracy: 0.9848 - val_loss: 0.0636 - val_accuracy: 0.9815\n",
            "Epoch 29/35\n",
            "438/438 [==============================] - 193s 440ms/step - loss: 0.0538 - accuracy: 0.9851 - val_loss: 0.0633 - val_accuracy: 0.9815\n",
            "Epoch 30/35\n",
            "438/438 [==============================] - 193s 440ms/step - loss: 0.0517 - accuracy: 0.9855 - val_loss: 0.0617 - val_accuracy: 0.9821\n",
            "Epoch 31/35\n",
            "438/438 [==============================] - 193s 440ms/step - loss: 0.0501 - accuracy: 0.9859 - val_loss: 0.0617 - val_accuracy: 0.9821\n",
            "Epoch 32/35\n",
            "438/438 [==============================] - 193s 440ms/step - loss: 0.0482 - accuracy: 0.9866 - val_loss: 0.0610 - val_accuracy: 0.9825\n",
            "Epoch 33/35\n",
            "438/438 [==============================] - 193s 440ms/step - loss: 0.0470 - accuracy: 0.9868 - val_loss: 0.0613 - val_accuracy: 0.9826\n",
            "Epoch 34/35\n",
            "438/438 [==============================] - 193s 440ms/step - loss: 0.0450 - accuracy: 0.9874 - val_loss: 0.0613 - val_accuracy: 0.9824\n",
            "Epoch 35/35\n",
            "438/438 [==============================] - 192s 438ms/step - loss: 0.0438 - accuracy: 0.9877 - val_loss: 0.0607 - val_accuracy: 0.9829\n"
          ]
        }
      ]
    },
    {
      "cell_type": "code",
      "source": [
        "#!pip list | grep tensorflow"
      ],
      "metadata": {
        "id": "Cv423nl03e9s"
      },
      "execution_count": null,
      "outputs": []
    },
    {
      "cell_type": "markdown",
      "source": [
        "<h1 id=\"results\" style=\"color:#black; background:#2fbbab; border:0.5px dotted #black;\"> \n",
        "    <center>Results\n",
        "        <a class=\"anchor-link\" href=\"#results\" target=\"_self\">¶</a>\n",
        "    </center>\n",
        "</h1>"
      ],
      "metadata": {
        "id": "kDBIOsS0uVfN"
      }
    },
    {
      "cell_type": "markdown",
      "source": [
        "## Training results"
      ],
      "metadata": {
        "id": "jg0RsmuMuVfP"
      }
    },
    {
      "cell_type": "code",
      "source": [
        "plt.figure(figsize=(14,8))\n",
        "plt.title('Losses')\n",
        "plt.plot(history.history['loss'], label='Train Loss')\n",
        "plt.plot(history.history['val_loss'], label='Valid Loss')\n",
        "plt.ylabel('Loss')\n",
        "plt.xlabel('Epochs')\n",
        "plt.legend()\n",
        "plt.show()\n"
      ],
      "metadata": {
        "_kg_hide-input": false,
        "_kg_hide-output": true,
        "trusted": true,
        "id": "ZRHV23iwuVfQ",
        "colab": {
          "base_uri": "https://localhost:8080/",
          "height": 513
        },
        "outputId": "56dd7097-6324-447e-89b9-0b2d7b47953b"
      },
      "execution_count": 15,
      "outputs": [
        {
          "output_type": "display_data",
          "data": {
            "text/plain": [
              "<Figure size 1008x576 with 1 Axes>"
            ],
            "image/png": "[encoded data removed]"
          },
          "metadata": {
            "needs_background": "light"
          }
        }
      ]
    },
    {
      "cell_type": "code",
      "source": [
        "plt.figure(figsize=(14,8))\n",
        "plt.title('Accuracies')\n",
        "plt.plot(history.history['accuracy'], label='Train Accuracy')\n",
        "plt.plot(history.history['val_accuracy'], label='Valid Accuracy')\n",
        "plt.ylabel('Accuracy')\n",
        "plt.xlabel('Epochs')\n",
        "plt.legend()\n",
        "plt.show()"
      ],
      "metadata": {
        "_kg_hide-input": false,
        "trusted": true,
        "id": "V78UDMWzuVfS",
        "colab": {
          "base_uri": "https://localhost:8080/",
          "height": 513
        },
        "outputId": "683470fd-8f29-4a9b-a30d-5f407aace6bb"
      },
      "execution_count": 16,
      "outputs": [
        {
          "output_type": "display_data",
          "data": {
            "text/plain": [
              "<Figure size 1008x576 with 1 Axes>"
            ],
            "image/png": "[encoded data removed]"
          },
          "metadata": {
            "needs_background": "light"
          }
        }
      ]
    },
    {
      "cell_type": "markdown",
      "source": [
        "## Validation results"
      ],
      "metadata": {
        "id": "ym7y2gZmuVfT"
      }
    },
    {
      "cell_type": "code",
      "source": [
        "\n",
        "\n",
        "[loss, accuracy] = model.evaluate(X_valid, y_valid)\n",
        "print(\"Loss:%1.3f, Accuracy:%1.3f\" % (loss, accuracy))\n",
        "\n",
        "# Find the f1 score of the model output\n",
        "from sklearn.metrics import f1_score\n",
        "y_pred = model.predict(X_valid).logits\n",
        "y_pred = np.argmax(y_pred, axis=-1)\n",
        "y_pred = y_pred.reshape(-1)\n",
        "y_pred = y_pred.flatten().squeeze()\n",
        "y_valid = y_valid.flatten().squeeze()\n",
        "f1 = f1_score(y_valid, y_pred, average='macro')"
      ],
      "metadata": {
        "trusted": true,
        "id": "ZSRZPyGWuVfU",
        "colab": {
          "base_uri": "https://localhost:8080/"
        },
        "outputId": "0cfeb963-862e-427b-9629-cdc818aa8a16"
      },
      "execution_count": 17,
      "outputs": [
        {
          "output_type": "stream",
          "name": "stdout",
          "text": [
            "25/25 [==============================] - 5s 103ms/step - loss: 0.1022 - accuracy: 0.9723\n",
            "Loss:0.102, Accuracy:0.972\n",
            "25/25 [==============================] - 4s 90ms/step\n"
          ]
        }
      ]
    },
    {
      "cell_type": "code",
      "source": [
        "print(f1)"
      ],
      "metadata": {
        "id": "ngzk_lFHuebX",
        "colab": {
          "base_uri": "https://localhost:8080/"
        },
        "outputId": "f11747ce-5aa7-41c8-faec-f544e7d06b77"
      },
      "execution_count": 18,
      "outputs": [
        {
          "output_type": "stream",
          "name": "stdout",
          "text": [
            "0.7350135860236243\n"
          ]
        }
      ]
    },
    {
      "cell_type": "code",
      "source": [
        "if colab : model.save_weights('/content/drive/MyDrive/NLP_Hackathon_2023/'+MODEL_NAME.replace('/' , '-')+str(f1)+'.h5')\n",
        "else : model.save_weights('../'+MODEL_NAME.replace('/' , '-')+ str(f1)+'.h5')"
      ],
      "metadata": {
        "id": "K-hfIkKNzutM"
      },
      "execution_count": 19,
      "outputs": []
    },
    {
      "cell_type": "code",
      "source": [],
      "metadata": {
        "id": "qbNvKvYV1EEW"
      },
      "execution_count": null,
      "outputs": []
    }
  ]
}