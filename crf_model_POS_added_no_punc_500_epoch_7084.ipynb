{
  "metadata": {
    "kernelspec": {
      "language": "python",
      "display_name": "Python 3",
      "name": "python3"
    },
    "language_info": {
      "pygments_lexer": "ipython3",
      "nbconvert_exporter": "python",
      "version": "3.6.4",
      "file_extension": ".py",
      "codemirror_mode": {
        "name": "ipython",
        "version": 3
      },
      "name": "python",
      "mimetype": "text/x-python"
    },
    "colab": {
      "provenance": []
    }
  },
  "nbformat_minor": 0,
  "nbformat": 4,
  "cells": [
    {
      "cell_type": "code",
      "source": [
        "# scikit-learn                      0.23.2\n",
        "# sklearn-crfsuite                  0.3.6\n",
        "!pip install scikit-learn==0.23.2\n",
        "!pip install sklearn-crfsuite==0.3.6"
      ],
      "metadata": {
        "colab": {
          "base_uri": "https://localhost:8080/"
        },
        "id": "NgeDjTqgAdfB",
        "outputId": "13173a67-e88e-4e5a-dcc4-6e61c4c8023b"
      },
      "execution_count": null,
      "outputs": [
        {
          "output_type": "stream",
          "name": "stdout",
          "text": [
            "Looking in indexes: https://pypi.org/simple, https://us-python.pkg.dev/colab-wheels/public/simple/\n",
            "Requirement already satisfied: scikit-learn==0.23.2 in /usr/local/lib/python3.8/dist-packages (0.23.2)\n",
            "Requirement already satisfied: threadpoolctl>=2.0.0 in /usr/local/lib/python3.8/dist-packages (from scikit-learn==0.23.2) (3.1.0)\n",
            "Requirement already satisfied: numpy>=1.13.3 in /usr/local/lib/python3.8/dist-packages (from scikit-learn==0.23.2) (1.21.6)\n",
            "Requirement already satisfied: joblib>=0.11 in /usr/local/lib/python3.8/dist-packages (from scikit-learn==0.23.2) (1.2.0)\n",
            "Requirement already satisfied: scipy>=0.19.1 in /usr/local/lib/python3.8/dist-packages (from scikit-learn==0.23.2) (1.7.3)\n",
            "Looking in indexes: https://pypi.org/simple, https://us-python.pkg.dev/colab-wheels/public/simple/\n",
            "Requirement already satisfied: sklearn-crfsuite==0.3.6 in /usr/local/lib/python3.8/dist-packages (0.3.6)\n",
            "Requirement already satisfied: python-crfsuite>=0.8.3 in /usr/local/lib/python3.8/dist-packages (from sklearn-crfsuite==0.3.6) (0.9.8)\n",
            "Requirement already satisfied: tqdm>=2.0 in /usr/local/lib/python3.8/dist-packages (from sklearn-crfsuite==0.3.6) (4.64.1)\n",
            "Requirement already satisfied: tabulate in /usr/local/lib/python3.8/dist-packages (from sklearn-crfsuite==0.3.6) (0.8.10)\n",
            "Requirement already satisfied: six in /usr/local/lib/python3.8/dist-packages (from sklearn-crfsuite==0.3.6) (1.15.0)\n"
          ]
        }
      ]
    },
    {
      "cell_type": "code",
      "source": [
        "!pip install bnlp_toolkit"
      ],
      "metadata": {
        "colab": {
          "base_uri": "https://localhost:8080/"
        },
        "id": "ZgIs1JB-FCZO",
        "outputId": "57d1881f-929f-4d27-a91d-8877e303c769"
      },
      "execution_count": null,
      "outputs": [
        {
          "output_type": "stream",
          "name": "stdout",
          "text": [
            "Looking in indexes: https://pypi.org/simple, https://us-python.pkg.dev/colab-wheels/public/simple/\n",
            "Requirement already satisfied: bnlp_toolkit in /usr/local/lib/python3.8/dist-packages (3.2.0)\n",
            "Requirement already satisfied: sklearn-crfsuite in /usr/local/lib/python3.8/dist-packages (from bnlp_toolkit) (0.3.6)\n",
            "Requirement already satisfied: wasabi in /usr/local/lib/python3.8/dist-packages (from bnlp_toolkit) (0.10.1)\n",
            "Requirement already satisfied: numpy in /usr/local/lib/python3.8/dist-packages (from bnlp_toolkit) (1.21.6)\n",
            "Requirement already satisfied: tqdm in /usr/local/lib/python3.8/dist-packages (from bnlp_toolkit) (4.64.1)\n",
            "Requirement already satisfied: nltk in /usr/local/lib/python3.8/dist-packages (from bnlp_toolkit) (3.7)\n",
            "Requirement already satisfied: sentencepiece in /usr/local/lib/python3.8/dist-packages (from bnlp_toolkit) (0.1.97)\n",
            "Requirement already satisfied: scipy in /usr/local/lib/python3.8/dist-packages (from bnlp_toolkit) (1.7.3)\n",
            "Requirement already satisfied: gensim==4.0.1 in /usr/local/lib/python3.8/dist-packages (from bnlp_toolkit) (4.0.1)\n",
            "Requirement already satisfied: smart-open>=1.8.1 in /usr/local/lib/python3.8/dist-packages (from gensim==4.0.1->bnlp_toolkit) (6.3.0)\n",
            "Requirement already satisfied: click in /usr/local/lib/python3.8/dist-packages (from nltk->bnlp_toolkit) (7.1.2)\n",
            "Requirement already satisfied: regex>=2021.8.3 in /usr/local/lib/python3.8/dist-packages (from nltk->bnlp_toolkit) (2022.6.2)\n",
            "Requirement already satisfied: joblib in /usr/local/lib/python3.8/dist-packages (from nltk->bnlp_toolkit) (1.2.0)\n",
            "Requirement already satisfied: six in /usr/local/lib/python3.8/dist-packages (from sklearn-crfsuite->bnlp_toolkit) (1.15.0)\n",
            "Requirement already satisfied: python-crfsuite>=0.8.3 in /usr/local/lib/python3.8/dist-packages (from sklearn-crfsuite->bnlp_toolkit) (0.9.8)\n",
            "Requirement already satisfied: tabulate in /usr/local/lib/python3.8/dist-packages (from sklearn-crfsuite->bnlp_toolkit) (0.8.10)\n"
          ]
        }
      ]
    },
    {
      "cell_type": "code",
      "source": [
        "!git clone https://github.com/sagorbrur/bnlp/ --depth 1"
      ],
      "metadata": {
        "colab": {
          "base_uri": "https://localhost:8080/"
        },
        "id": "F_bVoGx7FhD1",
        "outputId": "299cb3b6-508d-4dd0-d30a-c2242cca8f18"
      },
      "execution_count": null,
      "outputs": [
        {
          "output_type": "stream",
          "name": "stdout",
          "text": [
            "fatal: destination path 'bnlp' already exists and is not an empty directory.\n"
          ]
        }
      ]
    },
    {
      "cell_type": "code",
      "source": [],
      "metadata": {
        "id": "ohCblH0JGV3i"
      },
      "execution_count": null,
      "outputs": []
    },
    {
      "cell_type": "code",
      "source": [
        "from google.colab import drive\n",
        "drive.mount('/content/drive')"
      ],
      "metadata": {
        "colab": {
          "base_uri": "https://localhost:8080/"
        },
        "id": "3LOldaD8GV8g",
        "outputId": "d72e5163-37d1-49d1-bac2-8f15acbc8405"
      },
      "execution_count": null,
      "outputs": [
        {
          "output_type": "stream",
          "name": "stdout",
          "text": [
            "Drive already mounted at /content/drive; to attempt to forcibly remount, call drive.mount(\"/content/drive\", force_remount=True).\n"
          ]
        }
      ]
    },
    {
      "cell_type": "code",
      "source": [
        "# from bnlp import POS\n",
        "# bn_pos = POS()\n",
        "# model_path = \"bnlp/model/bn_pos.pkl\"\n",
        "# text = [\"আমি\", 'ভাত', 'খাই'] # or you can pass ['আমি', 'ভাত', 'খাই', '।']\n",
        "# for t in text:\n",
        "#   res = bn_pos.tag(model_path, t)\n",
        "#   print(res)\n"
      ],
      "metadata": {
        "id": "Z6NBOTtEGdPx"
      },
      "execution_count": null,
      "outputs": []
    },
    {
      "cell_type": "code",
      "source": [
        "# dir(POS)"
      ],
      "metadata": {
        "id": "nK7AgiRlHcQ_"
      },
      "execution_count": null,
      "outputs": []
    },
    {
      "cell_type": "code",
      "source": [
        "from bnlp.corpus import stopwords, punctuations, letters, digits\n",
        "\n",
        "# print(stopwords)\n",
        "# print(punctuations)\n",
        "# print(letters)\n",
        "# print(digits)"
      ],
      "metadata": {
        "id": "erDLKunJJT4S"
      },
      "execution_count": null,
      "outputs": []
    },
    {
      "cell_type": "code",
      "source": [
        "# from bnlp import NER\n",
        "# bn_ner = NER()\n",
        "# model_path = \"bnlp/model/bn_ner.pkl\"\n",
        "# text = \"সে ঢাকায় থাকে।\" # or you can pass ['সে', 'ঢাকায়', 'থাকে', '।']\n",
        "# result = bn_ner.tag(model_path, text)\n",
        "# print(result)\n",
        "# # [('সে', 'O'), ('ঢাকায়', 'S-LOC'), ('থাকে', 'O')]"
      ],
      "metadata": {
        "id": "ltyMOHviJq9C"
      },
      "execution_count": null,
      "outputs": []
    },
    {
      "cell_type": "code",
      "source": [
        "# from bnlp import POS\n",
        "# bn_pos = POS()\n",
        "# model_path = \"bnlp/model/bn_pos.pkl\"\n",
        "# text = [\"ঢাকা \", 'হতে', 'দূরে'] # or you can pass ['আমি', 'ভাত', 'খাই', '।']\n",
        "# for t in text:\n",
        "#   res = bn_pos.tag(model_path, t)\n",
        "#   print(res)\n"
      ],
      "metadata": {
        "id": "IPwl_x7FKHiw"
      },
      "execution_count": null,
      "outputs": []
    },
    {
      "cell_type": "code",
      "source": [
        "\n",
        "from bnlp import POS\n",
        "bn_pos = POS()\n",
        "model_path = \"bnlp/model/bn_pos.pkl\"\n",
        "\n",
        "def isPPR(text): \n",
        "  if(bn_pos.tag(model_path, text) == \"PPR\"): \n",
        "    # print(\"Yes PPR\")\n",
        "    return True\n",
        "  return False \n",
        "\n",
        "def isStopWord(text):\n",
        "  global stopwords\n",
        "  return text in stopwords\n",
        "\n",
        "def isDigit(text):\n",
        "  global digits\n",
        "  return text in digits\n",
        "\n",
        "def isPuncutuation(text): \n",
        "  global punctuations\n",
        "  return text in punctuations\n",
        "\n",
        "# from bnlp import POS\n",
        "# bn_pos = POS()\n",
        "# model_path = \"model/bn_pos.pkl\"\n",
        "# text = \"আমি ভাত খাই।\" # or you can pass ['আমি', 'ভাত', 'খাই', '।']\n",
        "# res = bn_pos.tag(model_path, text)\n",
        "# print(res)\n",
        "# [('আমি', 'PPR'), ('ভাত', 'NC'), ('খাই', 'VM'), ('।', 'PU')]\n",
        "def getBNPos(sentence):\n",
        "  # Focus: uporer gulate text = word; ekhane kintu pura sentence pass kortesi \n",
        "  return bn_pos.tag(model_path, sentence)\n",
        "\n"
      ],
      "metadata": {
        "id": "-1afGtKmLDUf"
      },
      "execution_count": null,
      "outputs": []
    },
    {
      "cell_type": "code",
      "source": [
        "out1 = getBNPos(\"সে ঢাকায় থাকে।\")\n",
        "print(type(out1))\n",
        "print(len(out1))\n",
        "print(out1)"
      ],
      "metadata": {
        "id": "45_hy7bBNXFf",
        "colab": {
          "base_uri": "https://localhost:8080/"
        },
        "outputId": "bf244266-53cd-46a1-ed11-169f4363d9a7"
      },
      "execution_count": null,
      "outputs": [
        {
          "output_type": "stream",
          "name": "stdout",
          "text": [
            "<class 'list'>\n",
            "4\n",
            "[('সে', 'PPR'), ('ঢাকায়', 'VM'), ('থাকে', 'VAUX'), ('।', 'PU')]\n"
          ]
        }
      ]
    },
    {
      "cell_type": "code",
      "source": [
        "# from bnlp import POS\n",
        "# bn_pos = POS()\n",
        "# model_path = \"bnlp/model/bn_pos.pkl\"\n",
        "# text = \"ঢাকা হতে দূরে ।\" # or you can pass ['আমি', 'ভাত', 'খাই', '।']\n",
        "# res = bn_pos.tag(model_path, text)\n",
        "# print(res)\n"
      ],
      "metadata": {
        "id": "zJnJHg2dK9Ew"
      },
      "execution_count": null,
      "outputs": []
    },
    {
      "cell_type": "code",
      "source": [],
      "metadata": {
        "id": "Sb6sMaBNK9xM"
      },
      "execution_count": null,
      "outputs": []
    },
    {
      "cell_type": "code",
      "source": [
        "# ! pip install -U 'scikit-learn<0.24'"
      ],
      "metadata": {
        "id": "uj-2l5RMkgwr"
      },
      "execution_count": null,
      "outputs": []
    },
    {
      "cell_type": "code",
      "source": [
        "# !pip install sklearn_crfsuite"
      ],
      "metadata": {
        "id": "pdq7CD2fkiNK"
      },
      "execution_count": null,
      "outputs": []
    },
    {
      "cell_type": "code",
      "source": [],
      "metadata": {
        "id": "Gmk1IAtCadvX"
      },
      "execution_count": null,
      "outputs": []
    },
    {
      "cell_type": "code",
      "source": [],
      "metadata": {
        "id": "AcRpzDQmrc-g"
      },
      "execution_count": null,
      "outputs": []
    },
    {
      "cell_type": "code",
      "source": [
        "!rm dev_generic_no_punc.csv\n",
        "!rm train_generic_no_punc.csv"
      ],
      "metadata": {
        "id": "zNgx2QBFaswQ"
      },
      "execution_count": null,
      "outputs": []
    },
    {
      "cell_type": "code",
      "source": [
        "!cp \"/content/drive/MyDrive/Colab Notebooks/NLP_Hackathon/dev_generic_no_punc.csv\" dev_generic_no_punc.csv\n",
        "!cp \"/content/drive/MyDrive/Colab Notebooks/NLP_Hackathon/train_generic_no_punc.csv\" train_generic_no_punc.csv"
      ],
      "metadata": {
        "id": "rXMHxyUUaaCZ"
      },
      "execution_count": null,
      "outputs": []
    },
    {
      "cell_type": "code",
      "source": [],
      "metadata": {
        "id": "XMb4dd0IacO-"
      },
      "execution_count": null,
      "outputs": []
    },
    {
      "cell_type": "code",
      "source": [
        "import pandas as pd\n",
        "\n",
        "from sklearn_crfsuite import CRF\n",
        "from sklearn_crfsuite import metrics"
      ],
      "metadata": {
        "execution": {
          "iopub.status.busy": "2021-11-21T22:01:45.960355Z",
          "iopub.execute_input": "2021-11-21T22:01:45.960657Z",
          "iopub.status.idle": "2021-11-21T22:01:46.862227Z",
          "shell.execute_reply.started": "2021-11-21T22:01:45.960608Z",
          "shell.execute_reply": "2021-11-21T22:01:46.861405Z"
        },
        "trusted": true,
        "id": "uWU5Tg_5ZSwY"
      },
      "execution_count": null,
      "outputs": []
    },
    {
      "cell_type": "code",
      "source": [
        "def extract_sentence_features(df):\n",
        "    # print(\"df:\", df)\n",
        "    sentence_length = len(df)\n",
        "    sentence1 = \"\"\n",
        "  \n",
        "    for i in range(sentence_length):\n",
        "        sentence1 += df.iloc[i]['word']\n",
        "        # if i<n-1:\n",
        "        sentence1 += \" \"\n",
        "\n",
        "    postag1 = getBNPos(sentence1)\n",
        "    # print(sentence1)\n",
        "    # print(postag1)\n",
        "\n",
        "\n",
        "    for i in range(sentence_length):\n",
        "        token = df.iloc[i]['word']\n",
        "        # print(\"i:\", i)\n",
        "        \n",
        "        \n",
        "        \n",
        "        features = {\n",
        "            'bias': 1.0,\n",
        "            'token.lower()': token.lower(),\n",
        "            # 'isPPR(token)': isPPR(token),\n",
        "            'isStopWord(token)': isStopWord(token),\n",
        "            'token.isupper()': token.isupper(),\n",
        "            'token.istitle()': token.istitle(),\n",
        "            # 'token.isdigit()': token.isdigit()\n",
        "            'isDigit(token)': isDigit(token),\n",
        "            'isPuncutuation(token)': isPuncutuation(token),\n",
        "        }\n",
        "        # print(\"i:\", i, \" len(postag1):\", len(postag1))\n",
        "        features['postag'] = postag1[i][1]\n",
        "        if i > 0:\n",
        "            previous_token = df.iloc[i-1]['word']\n",
        "            features.update({\n",
        "                'previous_token.lower()': previous_token.lower(),\n",
        "                # 'isPPR(previous_token)': isPPR(previous_token),\n",
        "                'isStopWord(previous_token)': isStopWord(previous_token),\n",
        "                'previous_token.isupper()': previous_token.isupper(),\n",
        "                'previous_token.istitle()': previous_token.istitle(),\n",
        "                # 'previous_token.isdigit()': previous_token.isdigit()\n",
        "                'isDigit(previous_token)': isDigit(previous_token),\n",
        "                'isPuncutuation(previous_token)': isPuncutuation(previous_token),\n",
        "            })\n",
        "        else:\n",
        "            features['BOS'] = True\n",
        "\n",
        "        if i < sentence_length - 1:\n",
        "            posterior_token = df.iloc[i+1]['word']\n",
        "            features.update({\n",
        "                'posterior_token.lower()': posterior_token.lower(),\n",
        "                # 'isPPR(posterior_token)': isPPR(posterior_token),\n",
        "                'isStopWord(posterior_token)': isStopWord(posterior_token),\n",
        "                'posterior_token.isupper()': posterior_token.isupper(),\n",
        "                'posterior_token.istitle()': posterior_token.istitle(),\n",
        "                # 'posterior_token.isdigit()': posterior_token.isdigit()\n",
        "                'isDigit(posterior_token)': isDigit(posterior_token),\n",
        "                'isPuncutuation(posterior_token)': isPuncutuation(posterior_token),\n",
        "            })\n",
        "        else:\n",
        "            features['EOS'] = True\n",
        "\n",
        "        yield features"
      ],
      "metadata": {
        "execution": {
          "iopub.status.busy": "2021-11-21T22:01:46.863595Z",
          "iopub.execute_input": "2021-11-21T22:01:46.863881Z",
          "iopub.status.idle": "2021-11-21T22:01:46.874663Z",
          "shell.execute_reply.started": "2021-11-21T22:01:46.863825Z",
          "shell.execute_reply": "2021-11-21T22:01:46.873337Z"
        },
        "trusted": true,
        "id": "2v6_NNOtZSwY"
      },
      "execution_count": null,
      "outputs": []
    },
    {
      "cell_type": "code",
      "source": [
        "from tqdm import tqdm\n",
        "def prepare(df, include_y=False):\n",
        "    X, y = [], []\n",
        "    for _, group_df in tqdm(df.groupby(['sentence_id'])):\n",
        "        X.append(list(extract_sentence_features(group_df)))\n",
        "        if include_y:\n",
        "            y.append(group_df['tag'])\n",
        "    if include_y:\n",
        "        return X, y\n",
        "    return X"
      ],
      "metadata": {
        "execution": {
          "iopub.status.busy": "2021-11-21T22:01:46.877435Z",
          "iopub.execute_input": "2021-11-21T22:01:46.877954Z",
          "iopub.status.idle": "2021-11-21T22:01:46.888726Z",
          "shell.execute_reply.started": "2021-11-21T22:01:46.877913Z",
          "shell.execute_reply": "2021-11-21T22:01:46.88779Z"
        },
        "trusted": true,
        "id": "uSdR39XEZSwY"
      },
      "execution_count": null,
      "outputs": []
    },
    {
      "cell_type": "code",
      "source": [
        "train_df = pd.read_csv('train_generic_no_punc.csv')\n",
        "validation_df = pd.read_csv('dev_generic_no_punc.csv')\n"
      ],
      "metadata": {
        "execution": {
          "iopub.status.busy": "2021-11-21T22:01:46.890541Z",
          "iopub.execute_input": "2021-11-21T22:01:46.891186Z",
          "iopub.status.idle": "2021-11-21T22:01:48.678368Z",
          "shell.execute_reply.started": "2021-11-21T22:01:46.891145Z",
          "shell.execute_reply": "2021-11-21T22:01:48.677643Z"
        },
        "trusted": true,
        "id": "7mA5df-VZSwZ"
      },
      "execution_count": null,
      "outputs": []
    },
    {
      "cell_type": "markdown",
      "source": [],
      "metadata": {
        "id": "8mlsyP_dr3LS"
      }
    },
    {
      "cell_type": "code",
      "source": [
        "train_df.head()"
      ],
      "metadata": {
        "execution": {
          "iopub.status.busy": "2021-11-21T22:01:48.67981Z",
          "iopub.execute_input": "2021-11-21T22:01:48.680234Z",
          "iopub.status.idle": "2021-11-21T22:01:48.698765Z",
          "shell.execute_reply.started": "2021-11-21T22:01:48.680202Z",
          "shell.execute_reply": "2021-11-21T22:01:48.697919Z"
        },
        "trusted": true,
        "colab": {
          "base_uri": "https://localhost:8080/",
          "height": 206
        },
        "id": "685_T5TFZSwZ",
        "outputId": "ceaaff51-15b1-425e-9da5-677c1a752497"
      },
      "execution_count": null,
      "outputs": [
        {
          "output_type": "execute_result",
          "data": {
            "text/plain": [
              "   sentence_id     word tag\n",
              "0            0      তার   O\n",
              "1            0  মৃত্যুর   O\n",
              "2            0       দশ   O\n",
              "3            0      দিন   O\n",
              "4            0       পর   O"
            ],
            "text/html": [
              "\n",
              "  <div id=\"df-a733d4a4-e213-46b8-ad4c-e062c2fb587c\">\n",
              "    <div class=\"colab-df-container\">\n",
              "      <div>\n",
              "<style scoped>\n",
              "    .dataframe tbody tr th:only-of-type {\n",
              "        vertical-align: middle;\n",
              "    }\n",
              "\n",
              "    .dataframe tbody tr th {\n",
              "        vertical-align: top;\n",
              "    }\n",
              "\n",
              "    .dataframe thead th {\n",
              "        text-align: right;\n",
              "    }\n",
              "</style>\n",
              "<table border=\"1\" class=\"dataframe\">\n",
              "  <thead>\n",
              "    <tr style=\"text-align: right;\">\n",
              "      <th></th>\n",
              "      <th>sentence_id</th>\n",
              "      <th>word</th>\n",
              "      <th>tag</th>\n",
              "    </tr>\n",
              "  </thead>\n",
              "  <tbody>\n",
              "    <tr>\n",
              "      <th>0</th>\n",
              "      <td>0</td>\n",
              "      <td>তার</td>\n",
              "      <td>O</td>\n",
              "    </tr>\n",
              "    <tr>\n",
              "      <th>1</th>\n",
              "      <td>0</td>\n",
              "      <td>মৃত্যুর</td>\n",
              "      <td>O</td>\n",
              "    </tr>\n",
              "    <tr>\n",
              "      <th>2</th>\n",
              "      <td>0</td>\n",
              "      <td>দশ</td>\n",
              "      <td>O</td>\n",
              "    </tr>\n",
              "    <tr>\n",
              "      <th>3</th>\n",
              "      <td>0</td>\n",
              "      <td>দিন</td>\n",
              "      <td>O</td>\n",
              "    </tr>\n",
              "    <tr>\n",
              "      <th>4</th>\n",
              "      <td>0</td>\n",
              "      <td>পর</td>\n",
              "      <td>O</td>\n",
              "    </tr>\n",
              "  </tbody>\n",
              "</table>\n",
              "</div>\n",
              "      <button class=\"colab-df-convert\" onclick=\"convertToInteractive('df-a733d4a4-e213-46b8-ad4c-e062c2fb587c')\"\n",
              "              title=\"Convert this dataframe to an interactive table.\"\n",
              "              style=\"display:none;\">\n",
              "        \n",
              "  <svg xmlns=\"http://www.w3.org/2000/svg\" height=\"24px\"viewBox=\"0 0 24 24\"\n",
              "       width=\"24px\">\n",
              "    <path d=\"M0 0h24v24H0V0z\" fill=\"none\"/>\n",
              "    <path d=\"M18.56 5.44l.94 2.06.94-2.06 2.06-.94-2.06-.94-.94-2.06-.94 2.06-2.06.94zm-11 1L8.5 8.5l.94-2.06 2.06-.94-2.06-.94L8.5 2.5l-.94 2.06-2.06.94zm10 10l.94 2.06.94-2.06 2.06-.94-2.06-.94-.94-2.06-.94 2.06-2.06.94z\"/><path d=\"M17.41 7.96l-1.37-1.37c-.4-.4-.92-.59-1.43-.59-.52 0-1.04.2-1.43.59L10.3 9.45l-7.72 7.72c-.78.78-.78 2.05 0 2.83L4 21.41c.39.39.9.59 1.41.59.51 0 1.02-.2 1.41-.59l7.78-7.78 2.81-2.81c.8-.78.8-2.07 0-2.86zM5.41 20L4 18.59l7.72-7.72 1.47 1.35L5.41 20z\"/>\n",
              "  </svg>\n",
              "      </button>\n",
              "      \n",
              "  <style>\n",
              "    .colab-df-container {\n",
              "      display:flex;\n",
              "      flex-wrap:wrap;\n",
              "      gap: 12px;\n",
              "    }\n",
              "\n",
              "    .colab-df-convert {\n",
              "      background-color: #E8F0FE;\n",
              "      border: none;\n",
              "      border-radius: 50%;\n",
              "      cursor: pointer;\n",
              "      display: none;\n",
              "      fill: #1967D2;\n",
              "      height: 32px;\n",
              "      padding: 0 0 0 0;\n",
              "      width: 32px;\n",
              "    }\n",
              "\n",
              "    .colab-df-convert:hover {\n",
              "      background-color: #E2EBFA;\n",
              "      box-shadow: 0px 1px 2px rgba(60, 64, 67, 0.3), 0px 1px 3px 1px rgba(60, 64, 67, 0.15);\n",
              "      fill: #174EA6;\n",
              "    }\n",
              "\n",
              "    [theme=dark] .colab-df-convert {\n",
              "      background-color: #3B4455;\n",
              "      fill: #D2E3FC;\n",
              "    }\n",
              "\n",
              "    [theme=dark] .colab-df-convert:hover {\n",
              "      background-color: #434B5C;\n",
              "      box-shadow: 0px 1px 3px 1px rgba(0, 0, 0, 0.15);\n",
              "      filter: drop-shadow(0px 1px 2px rgba(0, 0, 0, 0.3));\n",
              "      fill: #FFFFFF;\n",
              "    }\n",
              "  </style>\n",
              "\n",
              "      <script>\n",
              "        const buttonEl =\n",
              "          document.querySelector('#df-a733d4a4-e213-46b8-ad4c-e062c2fb587c button.colab-df-convert');\n",
              "        buttonEl.style.display =\n",
              "          google.colab.kernel.accessAllowed ? 'block' : 'none';\n",
              "\n",
              "        async function convertToInteractive(key) {\n",
              "          const element = document.querySelector('#df-a733d4a4-e213-46b8-ad4c-e062c2fb587c');\n",
              "          const dataTable =\n",
              "            await google.colab.kernel.invokeFunction('convertToInteractive',\n",
              "                                                     [key], {});\n",
              "          if (!dataTable) return;\n",
              "\n",
              "          const docLinkHtml = 'Like what you see? Visit the ' +\n",
              "            '<a target=\"_blank\" href=https://colab.research.google.com/notebooks/data_table.ipynb>data table notebook</a>'\n",
              "            + ' to learn more about interactive tables.';\n",
              "          element.innerHTML = '';\n",
              "          dataTable['output_type'] = 'display_data';\n",
              "          await google.colab.output.renderOutput(dataTable, element);\n",
              "          const docLink = document.createElement('div');\n",
              "          docLink.innerHTML = docLinkHtml;\n",
              "          element.appendChild(docLink);\n",
              "        }\n",
              "      </script>\n",
              "    </div>\n",
              "  </div>\n",
              "  "
            ]
          },
          "metadata": {},
          "execution_count": 135
        }
      ]
    },
    {
      "cell_type": "code",
      "source": [
        "train_df.info()"
      ],
      "metadata": {
        "execution": {
          "iopub.status.busy": "2021-11-21T22:01:48.700116Z",
          "iopub.execute_input": "2021-11-21T22:01:48.700517Z",
          "iopub.status.idle": "2021-11-21T22:01:48.939647Z",
          "shell.execute_reply.started": "2021-11-21T22:01:48.700475Z",
          "shell.execute_reply": "2021-11-21T22:01:48.938765Z"
        },
        "trusted": true,
        "colab": {
          "base_uri": "https://localhost:8080/"
        },
        "id": "YHBLtSakZSwZ",
        "outputId": "b54f41d6-5899-47b6-9188-ed4a8e18c813"
      },
      "execution_count": null,
      "outputs": [
        {
          "output_type": "stream",
          "name": "stdout",
          "text": [
            "<class 'pandas.core.frame.DataFrame'>\n",
            "RangeIndex: 191897 entries, 0 to 191896\n",
            "Data columns (total 3 columns):\n",
            " #   Column       Non-Null Count   Dtype \n",
            "---  ------       --------------   ----- \n",
            " 0   sentence_id  191897 non-null  int64 \n",
            " 1   word         191897 non-null  object\n",
            " 2   tag          191897 non-null  object\n",
            "dtypes: int64(1), object(2)\n",
            "memory usage: 4.4+ MB\n"
          ]
        }
      ]
    },
    {
      "cell_type": "code",
      "source": [
        "validation_df.head()"
      ],
      "metadata": {
        "colab": {
          "base_uri": "https://localhost:8080/",
          "height": 206
        },
        "id": "0nsK2JRiaLVg",
        "outputId": "0ede7b68-5337-4caa-fec4-a47fdfe6c1e2"
      },
      "execution_count": null,
      "outputs": [
        {
          "output_type": "execute_result",
          "data": {
            "text/plain": [
              "   sentence_id     word    tag\n",
              "0            0     তিনি      O\n",
              "1            0     যুবক      O\n",
              "2            0   হিসেবে      O\n",
              "3            0  শেফিল্ড  B-GRP\n",
              "4            0   বুধবার  I-GRP"
            ],
            "text/html": [
              "\n",
              "  <div id=\"df-d9df3c74-c44b-41db-a273-3c7c028a405a\">\n",
              "    <div class=\"colab-df-container\">\n",
              "      <div>\n",
              "<style scoped>\n",
              "    .dataframe tbody tr th:only-of-type {\n",
              "        vertical-align: middle;\n",
              "    }\n",
              "\n",
              "    .dataframe tbody tr th {\n",
              "        vertical-align: top;\n",
              "    }\n",
              "\n",
              "    .dataframe thead th {\n",
              "        text-align: right;\n",
              "    }\n",
              "</style>\n",
              "<table border=\"1\" class=\"dataframe\">\n",
              "  <thead>\n",
              "    <tr style=\"text-align: right;\">\n",
              "      <th></th>\n",
              "      <th>sentence_id</th>\n",
              "      <th>word</th>\n",
              "      <th>tag</th>\n",
              "    </tr>\n",
              "  </thead>\n",
              "  <tbody>\n",
              "    <tr>\n",
              "      <th>0</th>\n",
              "      <td>0</td>\n",
              "      <td>তিনি</td>\n",
              "      <td>O</td>\n",
              "    </tr>\n",
              "    <tr>\n",
              "      <th>1</th>\n",
              "      <td>0</td>\n",
              "      <td>যুবক</td>\n",
              "      <td>O</td>\n",
              "    </tr>\n",
              "    <tr>\n",
              "      <th>2</th>\n",
              "      <td>0</td>\n",
              "      <td>হিসেবে</td>\n",
              "      <td>O</td>\n",
              "    </tr>\n",
              "    <tr>\n",
              "      <th>3</th>\n",
              "      <td>0</td>\n",
              "      <td>শেফিল্ড</td>\n",
              "      <td>B-GRP</td>\n",
              "    </tr>\n",
              "    <tr>\n",
              "      <th>4</th>\n",
              "      <td>0</td>\n",
              "      <td>বুধবার</td>\n",
              "      <td>I-GRP</td>\n",
              "    </tr>\n",
              "  </tbody>\n",
              "</table>\n",
              "</div>\n",
              "      <button class=\"colab-df-convert\" onclick=\"convertToInteractive('df-d9df3c74-c44b-41db-a273-3c7c028a405a')\"\n",
              "              title=\"Convert this dataframe to an interactive table.\"\n",
              "              style=\"display:none;\">\n",
              "        \n",
              "  <svg xmlns=\"http://www.w3.org/2000/svg\" height=\"24px\"viewBox=\"0 0 24 24\"\n",
              "       width=\"24px\">\n",
              "    <path d=\"M0 0h24v24H0V0z\" fill=\"none\"/>\n",
              "    <path d=\"M18.56 5.44l.94 2.06.94-2.06 2.06-.94-2.06-.94-.94-2.06-.94 2.06-2.06.94zm-11 1L8.5 8.5l.94-2.06 2.06-.94-2.06-.94L8.5 2.5l-.94 2.06-2.06.94zm10 10l.94 2.06.94-2.06 2.06-.94-2.06-.94-.94-2.06-.94 2.06-2.06.94z\"/><path d=\"M17.41 7.96l-1.37-1.37c-.4-.4-.92-.59-1.43-.59-.52 0-1.04.2-1.43.59L10.3 9.45l-7.72 7.72c-.78.78-.78 2.05 0 2.83L4 21.41c.39.39.9.59 1.41.59.51 0 1.02-.2 1.41-.59l7.78-7.78 2.81-2.81c.8-.78.8-2.07 0-2.86zM5.41 20L4 18.59l7.72-7.72 1.47 1.35L5.41 20z\"/>\n",
              "  </svg>\n",
              "      </button>\n",
              "      \n",
              "  <style>\n",
              "    .colab-df-container {\n",
              "      display:flex;\n",
              "      flex-wrap:wrap;\n",
              "      gap: 12px;\n",
              "    }\n",
              "\n",
              "    .colab-df-convert {\n",
              "      background-color: #E8F0FE;\n",
              "      border: none;\n",
              "      border-radius: 50%;\n",
              "      cursor: pointer;\n",
              "      display: none;\n",
              "      fill: #1967D2;\n",
              "      height: 32px;\n",
              "      padding: 0 0 0 0;\n",
              "      width: 32px;\n",
              "    }\n",
              "\n",
              "    .colab-df-convert:hover {\n",
              "      background-color: #E2EBFA;\n",
              "      box-shadow: 0px 1px 2px rgba(60, 64, 67, 0.3), 0px 1px 3px 1px rgba(60, 64, 67, 0.15);\n",
              "      fill: #174EA6;\n",
              "    }\n",
              "\n",
              "    [theme=dark] .colab-df-convert {\n",
              "      background-color: #3B4455;\n",
              "      fill: #D2E3FC;\n",
              "    }\n",
              "\n",
              "    [theme=dark] .colab-df-convert:hover {\n",
              "      background-color: #434B5C;\n",
              "      box-shadow: 0px 1px 3px 1px rgba(0, 0, 0, 0.15);\n",
              "      filter: drop-shadow(0px 1px 2px rgba(0, 0, 0, 0.3));\n",
              "      fill: #FFFFFF;\n",
              "    }\n",
              "  </style>\n",
              "\n",
              "      <script>\n",
              "        const buttonEl =\n",
              "          document.querySelector('#df-d9df3c74-c44b-41db-a273-3c7c028a405a button.colab-df-convert');\n",
              "        buttonEl.style.display =\n",
              "          google.colab.kernel.accessAllowed ? 'block' : 'none';\n",
              "\n",
              "        async function convertToInteractive(key) {\n",
              "          const element = document.querySelector('#df-d9df3c74-c44b-41db-a273-3c7c028a405a');\n",
              "          const dataTable =\n",
              "            await google.colab.kernel.invokeFunction('convertToInteractive',\n",
              "                                                     [key], {});\n",
              "          if (!dataTable) return;\n",
              "\n",
              "          const docLinkHtml = 'Like what you see? Visit the ' +\n",
              "            '<a target=\"_blank\" href=https://colab.research.google.com/notebooks/data_table.ipynb>data table notebook</a>'\n",
              "            + ' to learn more about interactive tables.';\n",
              "          element.innerHTML = '';\n",
              "          dataTable['output_type'] = 'display_data';\n",
              "          await google.colab.output.renderOutput(dataTable, element);\n",
              "          const docLink = document.createElement('div');\n",
              "          docLink.innerHTML = docLinkHtml;\n",
              "          element.appendChild(docLink);\n",
              "        }\n",
              "      </script>\n",
              "    </div>\n",
              "  </div>\n",
              "  "
            ]
          },
          "metadata": {},
          "execution_count": 137
        }
      ]
    },
    {
      "cell_type": "code",
      "source": [
        "validation_df.info()"
      ],
      "metadata": {
        "execution": {
          "iopub.status.busy": "2021-11-21T22:01:48.941799Z",
          "iopub.execute_input": "2021-11-21T22:01:48.942135Z",
          "iopub.status.idle": "2021-11-21T22:01:49.169749Z",
          "shell.execute_reply.started": "2021-11-21T22:01:48.94209Z",
          "shell.execute_reply": "2021-11-21T22:01:49.168918Z"
        },
        "trusted": true,
        "colab": {
          "base_uri": "https://localhost:8080/"
        },
        "id": "UWRWjQtbZSwZ",
        "outputId": "166dd0c0-6335-4a2f-dc0d-0e3926a8eeac"
      },
      "execution_count": null,
      "outputs": [
        {
          "output_type": "stream",
          "name": "stdout",
          "text": [
            "<class 'pandas.core.frame.DataFrame'>\n",
            "RangeIndex: 10333 entries, 0 to 10332\n",
            "Data columns (total 3 columns):\n",
            " #   Column       Non-Null Count  Dtype \n",
            "---  ------       --------------  ----- \n",
            " 0   sentence_id  10333 non-null  int64 \n",
            " 1   word         10333 non-null  object\n",
            " 2   tag          10333 non-null  object\n",
            "dtypes: int64(1), object(2)\n",
            "memory usage: 242.3+ KB\n"
          ]
        }
      ]
    },
    {
      "cell_type": "code",
      "source": [
        "train_df['word'].fillna('', inplace=True)\n",
        "validation_df['word'].fillna('', inplace=True)\n"
      ],
      "metadata": {
        "id": "eH_Bgw83ZSwZ"
      },
      "execution_count": null,
      "outputs": []
    },
    {
      "cell_type": "code",
      "source": [
        "X_train, y_train = prepare(train_df, include_y=True)\n",
        "X_validation, y_validation = prepare(validation_df, include_y=True)\n",
        "# X_train, y_train = prepare(train_df[0:1000], include_y=True)\n",
        "# X_validation, y_validation = prepare(validation_df[0:1000], include_y=True)\n"
      ],
      "metadata": {
        "execution": {
          "iopub.status.busy": "2021-11-21T22:01:49.374522Z",
          "iopub.execute_input": "2021-11-21T22:01:49.375407Z",
          "iopub.status.idle": "2021-11-21T22:13:00.966516Z",
          "shell.execute_reply.started": "2021-11-21T22:01:49.375355Z",
          "shell.execute_reply": "2021-11-21T22:13:00.965241Z"
        },
        "trusted": true,
        "id": "cjJ9Rwh0ZSwa",
        "colab": {
          "base_uri": "https://localhost:8080/"
        },
        "outputId": "fa54ad33-6146-4dab-af88-7006cb9e4a8e"
      },
      "execution_count": null,
      "outputs": [
        {
          "output_type": "stream",
          "name": "stderr",
          "text": [
            "100%|██████████| 15300/15300 [05:46<00:00, 44.20it/s]\n",
            "100%|██████████| 800/800 [00:19<00:00, 41.52it/s]\n"
          ]
        }
      ]
    },
    {
      "cell_type": "code",
      "source": [],
      "metadata": {
        "id": "sEqZ7e8q60yd"
      },
      "execution_count": null,
      "outputs": []
    },
    {
      "cell_type": "code",
      "source": [
        "X_train[0]"
      ],
      "metadata": {
        "id": "ADYrlpXraPko",
        "colab": {
          "base_uri": "https://localhost:8080/"
        },
        "outputId": "16d1a89c-2379-4378-d31a-80c9f6a1322a"
      },
      "execution_count": null,
      "outputs": [
        {
          "output_type": "execute_result",
          "data": {
            "text/plain": [
              "[{'bias': 1.0,\n",
              "  'token.lower()': 'তার',\n",
              "  'isStopWord(token)': True,\n",
              "  'token.isupper()': False,\n",
              "  'token.istitle()': False,\n",
              "  'isDigit(token)': False,\n",
              "  'isPuncutuation(token)': False,\n",
              "  'postag': 'PPR',\n",
              "  'BOS': True,\n",
              "  'posterior_token.lower()': 'মৃত্যুর',\n",
              "  'isStopWord(posterior_token)': False,\n",
              "  'posterior_token.isupper()': False,\n",
              "  'posterior_token.istitle()': False,\n",
              "  'isDigit(posterior_token)': False,\n",
              "  'isPuncutuation(posterior_token)': False},\n",
              " {'bias': 1.0,\n",
              "  'token.lower()': 'মৃত্যুর',\n",
              "  'isStopWord(token)': False,\n",
              "  'token.isupper()': False,\n",
              "  'token.istitle()': False,\n",
              "  'isDigit(token)': False,\n",
              "  'isPuncutuation(token)': False,\n",
              "  'postag': 'NC',\n",
              "  'previous_token.lower()': 'তার',\n",
              "  'isStopWord(previous_token)': True,\n",
              "  'previous_token.isupper()': False,\n",
              "  'previous_token.istitle()': False,\n",
              "  'isDigit(previous_token)': False,\n",
              "  'isPuncutuation(previous_token)': False,\n",
              "  'posterior_token.lower()': 'দশ',\n",
              "  'isStopWord(posterior_token)': False,\n",
              "  'posterior_token.isupper()': False,\n",
              "  'posterior_token.istitle()': False,\n",
              "  'isDigit(posterior_token)': False,\n",
              "  'isPuncutuation(posterior_token)': False},\n",
              " {'bias': 1.0,\n",
              "  'token.lower()': 'দশ',\n",
              "  'isStopWord(token)': False,\n",
              "  'token.isupper()': False,\n",
              "  'token.istitle()': False,\n",
              "  'isDigit(token)': False,\n",
              "  'isPuncutuation(token)': False,\n",
              "  'postag': 'JQ',\n",
              "  'previous_token.lower()': 'মৃত্যুর',\n",
              "  'isStopWord(previous_token)': False,\n",
              "  'previous_token.isupper()': False,\n",
              "  'previous_token.istitle()': False,\n",
              "  'isDigit(previous_token)': False,\n",
              "  'isPuncutuation(previous_token)': False,\n",
              "  'posterior_token.lower()': 'দিন',\n",
              "  'isStopWord(posterior_token)': True,\n",
              "  'posterior_token.isupper()': False,\n",
              "  'posterior_token.istitle()': False,\n",
              "  'isDigit(posterior_token)': False,\n",
              "  'isPuncutuation(posterior_token)': False},\n",
              " {'bias': 1.0,\n",
              "  'token.lower()': 'দিন',\n",
              "  'isStopWord(token)': True,\n",
              "  'token.isupper()': False,\n",
              "  'token.istitle()': False,\n",
              "  'isDigit(token)': False,\n",
              "  'isPuncutuation(token)': False,\n",
              "  'postag': 'NC',\n",
              "  'previous_token.lower()': 'দশ',\n",
              "  'isStopWord(previous_token)': False,\n",
              "  'previous_token.isupper()': False,\n",
              "  'previous_token.istitle()': False,\n",
              "  'isDigit(previous_token)': False,\n",
              "  'isPuncutuation(previous_token)': False,\n",
              "  'posterior_token.lower()': 'পর',\n",
              "  'isStopWord(posterior_token)': True,\n",
              "  'posterior_token.isupper()': False,\n",
              "  'posterior_token.istitle()': False,\n",
              "  'isDigit(posterior_token)': False,\n",
              "  'isPuncutuation(posterior_token)': False},\n",
              " {'bias': 1.0,\n",
              "  'token.lower()': 'পর',\n",
              "  'isStopWord(token)': True,\n",
              "  'token.isupper()': False,\n",
              "  'token.istitle()': False,\n",
              "  'isDigit(token)': False,\n",
              "  'isPuncutuation(token)': False,\n",
              "  'postag': 'NST',\n",
              "  'previous_token.lower()': 'দিন',\n",
              "  'isStopWord(previous_token)': True,\n",
              "  'previous_token.isupper()': False,\n",
              "  'previous_token.istitle()': False,\n",
              "  'isDigit(previous_token)': False,\n",
              "  'isPuncutuation(previous_token)': False,\n",
              "  'posterior_token.lower()': '১১৫',\n",
              "  'isStopWord(posterior_token)': False,\n",
              "  'posterior_token.isupper()': False,\n",
              "  'posterior_token.istitle()': False,\n",
              "  'isDigit(posterior_token)': False,\n",
              "  'isPuncutuation(posterior_token)': False},\n",
              " {'bias': 1.0,\n",
              "  'token.lower()': '১১৫',\n",
              "  'isStopWord(token)': False,\n",
              "  'token.isupper()': False,\n",
              "  'token.istitle()': False,\n",
              "  'isDigit(token)': False,\n",
              "  'isPuncutuation(token)': False,\n",
              "  'postag': 'RDF',\n",
              "  'previous_token.lower()': 'পর',\n",
              "  'isStopWord(previous_token)': True,\n",
              "  'previous_token.isupper()': False,\n",
              "  'previous_token.istitle()': False,\n",
              "  'isDigit(previous_token)': False,\n",
              "  'isPuncutuation(previous_token)': False,\n",
              "  'posterior_token.lower()': 'কৃষ্ণাঙ্গ',\n",
              "  'isStopWord(posterior_token)': False,\n",
              "  'posterior_token.isupper()': False,\n",
              "  'posterior_token.istitle()': False,\n",
              "  'isDigit(posterior_token)': False,\n",
              "  'isPuncutuation(posterior_token)': False},\n",
              " {'bias': 1.0,\n",
              "  'token.lower()': 'কৃষ্ণাঙ্গ',\n",
              "  'isStopWord(token)': False,\n",
              "  'token.isupper()': False,\n",
              "  'token.istitle()': False,\n",
              "  'isDigit(token)': False,\n",
              "  'isPuncutuation(token)': False,\n",
              "  'postag': 'NC',\n",
              "  'previous_token.lower()': '১১৫',\n",
              "  'isStopWord(previous_token)': False,\n",
              "  'previous_token.isupper()': False,\n",
              "  'previous_token.istitle()': False,\n",
              "  'isDigit(previous_token)': False,\n",
              "  'isPuncutuation(previous_token)': False,\n",
              "  'posterior_token.lower()': 'উচ্চ',\n",
              "  'isStopWord(posterior_token)': False,\n",
              "  'posterior_token.isupper()': False,\n",
              "  'posterior_token.istitle()': False,\n",
              "  'isDigit(posterior_token)': False,\n",
              "  'isPuncutuation(posterior_token)': False},\n",
              " {'bias': 1.0,\n",
              "  'token.lower()': 'উচ্চ',\n",
              "  'isStopWord(token)': False,\n",
              "  'token.isupper()': False,\n",
              "  'token.istitle()': False,\n",
              "  'isDigit(token)': False,\n",
              "  'isPuncutuation(token)': False,\n",
              "  'postag': 'JJ',\n",
              "  'previous_token.lower()': 'কৃষ্ণাঙ্গ',\n",
              "  'isStopWord(previous_token)': False,\n",
              "  'previous_token.isupper()': False,\n",
              "  'previous_token.istitle()': False,\n",
              "  'isDigit(previous_token)': False,\n",
              "  'isPuncutuation(previous_token)': False,\n",
              "  'posterior_token.lower()': 'বিদ্যালয়ের',\n",
              "  'isStopWord(posterior_token)': False,\n",
              "  'posterior_token.isupper()': False,\n",
              "  'posterior_token.istitle()': False,\n",
              "  'isDigit(posterior_token)': False,\n",
              "  'isPuncutuation(posterior_token)': False},\n",
              " {'bias': 1.0,\n",
              "  'token.lower()': 'বিদ্যালয়ের',\n",
              "  'isStopWord(token)': False,\n",
              "  'token.isupper()': False,\n",
              "  'token.istitle()': False,\n",
              "  'isDigit(token)': False,\n",
              "  'isPuncutuation(token)': False,\n",
              "  'postag': 'NC',\n",
              "  'previous_token.lower()': 'উচ্চ',\n",
              "  'isStopWord(previous_token)': False,\n",
              "  'previous_token.isupper()': False,\n",
              "  'previous_token.istitle()': False,\n",
              "  'isDigit(previous_token)': False,\n",
              "  'isPuncutuation(previous_token)': False,\n",
              "  'posterior_token.lower()': 'শিক্ষার্থীরা',\n",
              "  'isStopWord(posterior_token)': False,\n",
              "  'posterior_token.isupper()': False,\n",
              "  'posterior_token.istitle()': False,\n",
              "  'isDigit(posterior_token)': False,\n",
              "  'isPuncutuation(posterior_token)': False},\n",
              " {'bias': 1.0,\n",
              "  'token.lower()': 'শিক্ষার্থীরা',\n",
              "  'isStopWord(token)': False,\n",
              "  'token.isupper()': False,\n",
              "  'token.istitle()': False,\n",
              "  'isDigit(token)': False,\n",
              "  'isPuncutuation(token)': False,\n",
              "  'postag': 'NC',\n",
              "  'previous_token.lower()': 'বিদ্যালয়ের',\n",
              "  'isStopWord(previous_token)': False,\n",
              "  'previous_token.isupper()': False,\n",
              "  'previous_token.istitle()': False,\n",
              "  'isDigit(previous_token)': False,\n",
              "  'isPuncutuation(previous_token)': False,\n",
              "  'posterior_token.lower()': 'তার',\n",
              "  'isStopWord(posterior_token)': True,\n",
              "  'posterior_token.isupper()': False,\n",
              "  'posterior_token.istitle()': False,\n",
              "  'isDigit(posterior_token)': False,\n",
              "  'isPuncutuation(posterior_token)': False},\n",
              " {'bias': 1.0,\n",
              "  'token.lower()': 'তার',\n",
              "  'isStopWord(token)': True,\n",
              "  'token.isupper()': False,\n",
              "  'token.istitle()': False,\n",
              "  'isDigit(token)': False,\n",
              "  'isPuncutuation(token)': False,\n",
              "  'postag': 'PPR',\n",
              "  'previous_token.lower()': 'শিক্ষার্থীরা',\n",
              "  'isStopWord(previous_token)': False,\n",
              "  'previous_token.isupper()': False,\n",
              "  'previous_token.istitle()': False,\n",
              "  'isDigit(previous_token)': False,\n",
              "  'isPuncutuation(previous_token)': False,\n",
              "  'posterior_token.lower()': 'হত্যার',\n",
              "  'isStopWord(posterior_token)': False,\n",
              "  'posterior_token.isupper()': False,\n",
              "  'posterior_token.istitle()': False,\n",
              "  'isDigit(posterior_token)': False,\n",
              "  'isPuncutuation(posterior_token)': False},\n",
              " {'bias': 1.0,\n",
              "  'token.lower()': 'হত্যার',\n",
              "  'isStopWord(token)': False,\n",
              "  'token.isupper()': False,\n",
              "  'token.istitle()': False,\n",
              "  'isDigit(token)': False,\n",
              "  'isPuncutuation(token)': False,\n",
              "  'postag': 'NC',\n",
              "  'previous_token.lower()': 'তার',\n",
              "  'isStopWord(previous_token)': True,\n",
              "  'previous_token.isupper()': False,\n",
              "  'previous_token.istitle()': False,\n",
              "  'isDigit(previous_token)': False,\n",
              "  'isPuncutuation(previous_token)': False,\n",
              "  'posterior_token.lower()': 'প্রতিবাদে',\n",
              "  'isStopWord(posterior_token)': False,\n",
              "  'posterior_token.isupper()': False,\n",
              "  'posterior_token.istitle()': False,\n",
              "  'isDigit(posterior_token)': False,\n",
              "  'isPuncutuation(posterior_token)': False},\n",
              " {'bias': 1.0,\n",
              "  'token.lower()': 'প্রতিবাদে',\n",
              "  'isStopWord(token)': False,\n",
              "  'token.isupper()': False,\n",
              "  'token.istitle()': False,\n",
              "  'isDigit(token)': False,\n",
              "  'isPuncutuation(token)': False,\n",
              "  'postag': 'NC',\n",
              "  'previous_token.lower()': 'হত্যার',\n",
              "  'isStopWord(previous_token)': False,\n",
              "  'previous_token.isupper()': False,\n",
              "  'previous_token.istitle()': False,\n",
              "  'isDigit(previous_token)': False,\n",
              "  'isPuncutuation(previous_token)': False,\n",
              "  'posterior_token.lower()': 'ম্যাককম্ব',\n",
              "  'isStopWord(posterior_token)': False,\n",
              "  'posterior_token.isupper()': False,\n",
              "  'posterior_token.istitle()': False,\n",
              "  'isDigit(posterior_token)': False,\n",
              "  'isPuncutuation(posterior_token)': False},\n",
              " {'bias': 1.0,\n",
              "  'token.lower()': 'ম্যাককম্ব',\n",
              "  'isStopWord(token)': False,\n",
              "  'token.isupper()': False,\n",
              "  'token.istitle()': False,\n",
              "  'isDigit(token)': False,\n",
              "  'isPuncutuation(token)': False,\n",
              "  'postag': 'NC',\n",
              "  'previous_token.lower()': 'প্রতিবাদে',\n",
              "  'isStopWord(previous_token)': False,\n",
              "  'previous_token.isupper()': False,\n",
              "  'previous_token.istitle()': False,\n",
              "  'isDigit(previous_token)': False,\n",
              "  'isPuncutuation(previous_token)': False,\n",
              "  'posterior_token.lower()': 'এর',\n",
              "  'isStopWord(posterior_token)': True,\n",
              "  'posterior_token.isupper()': False,\n",
              "  'posterior_token.istitle()': False,\n",
              "  'isDigit(posterior_token)': False,\n",
              "  'isPuncutuation(posterior_token)': False},\n",
              " {'bias': 1.0,\n",
              "  'token.lower()': 'এর',\n",
              "  'isStopWord(token)': True,\n",
              "  'token.isupper()': False,\n",
              "  'token.istitle()': False,\n",
              "  'isDigit(token)': False,\n",
              "  'isPuncutuation(token)': False,\n",
              "  'postag': 'PPR',\n",
              "  'previous_token.lower()': 'ম্যাককম্ব',\n",
              "  'isStopWord(previous_token)': False,\n",
              "  'previous_token.isupper()': False,\n",
              "  'previous_token.istitle()': False,\n",
              "  'isDigit(previous_token)': False,\n",
              "  'isPuncutuation(previous_token)': False,\n",
              "  'posterior_token.lower()': 'মাধ্যমে',\n",
              "  'isStopWord(posterior_token)': True,\n",
              "  'posterior_token.isupper()': False,\n",
              "  'posterior_token.istitle()': False,\n",
              "  'isDigit(posterior_token)': False,\n",
              "  'isPuncutuation(posterior_token)': False},\n",
              " {'bias': 1.0,\n",
              "  'token.lower()': 'মাধ্যমে',\n",
              "  'isStopWord(token)': True,\n",
              "  'token.isupper()': False,\n",
              "  'token.istitle()': False,\n",
              "  'isDigit(token)': False,\n",
              "  'isPuncutuation(token)': False,\n",
              "  'postag': 'PP',\n",
              "  'previous_token.lower()': 'এর',\n",
              "  'isStopWord(previous_token)': True,\n",
              "  'previous_token.isupper()': False,\n",
              "  'previous_token.istitle()': False,\n",
              "  'isDigit(previous_token)': False,\n",
              "  'isPuncutuation(previous_token)': False,\n",
              "  'posterior_token.lower()': 'মিছিল',\n",
              "  'isStopWord(posterior_token)': False,\n",
              "  'posterior_token.isupper()': False,\n",
              "  'posterior_token.istitle()': False,\n",
              "  'isDigit(posterior_token)': False,\n",
              "  'isPuncutuation(posterior_token)': False},\n",
              " {'bias': 1.0,\n",
              "  'token.lower()': 'মিছিল',\n",
              "  'isStopWord(token)': False,\n",
              "  'token.isupper()': False,\n",
              "  'token.istitle()': False,\n",
              "  'isDigit(token)': False,\n",
              "  'isPuncutuation(token)': False,\n",
              "  'postag': 'NC',\n",
              "  'previous_token.lower()': 'মাধ্যমে',\n",
              "  'isStopWord(previous_token)': True,\n",
              "  'previous_token.isupper()': False,\n",
              "  'previous_token.istitle()': False,\n",
              "  'isDigit(previous_token)': False,\n",
              "  'isPuncutuation(previous_token)': False,\n",
              "  'posterior_token.lower()': 'করেছে',\n",
              "  'isStopWord(posterior_token)': True,\n",
              "  'posterior_token.isupper()': False,\n",
              "  'posterior_token.istitle()': False,\n",
              "  'isDigit(posterior_token)': False,\n",
              "  'isPuncutuation(posterior_token)': False},\n",
              " {'bias': 1.0,\n",
              "  'token.lower()': 'করেছে',\n",
              "  'isStopWord(token)': True,\n",
              "  'token.isupper()': False,\n",
              "  'token.istitle()': False,\n",
              "  'isDigit(token)': False,\n",
              "  'isPuncutuation(token)': False,\n",
              "  'postag': 'VM',\n",
              "  'previous_token.lower()': 'মিছিল',\n",
              "  'isStopWord(previous_token)': False,\n",
              "  'previous_token.isupper()': False,\n",
              "  'previous_token.istitle()': False,\n",
              "  'isDigit(previous_token)': False,\n",
              "  'isPuncutuation(previous_token)': False,\n",
              "  'EOS': True}]"
            ]
          },
          "metadata": {},
          "execution_count": 141
        }
      ]
    },
    {
      "cell_type": "code",
      "source": [
        "len(X_train)"
      ],
      "metadata": {
        "execution": {
          "iopub.status.busy": "2021-11-21T22:13:00.968262Z",
          "iopub.execute_input": "2021-11-21T22:13:00.968938Z",
          "iopub.status.idle": "2021-11-21T22:13:00.975941Z",
          "shell.execute_reply.started": "2021-11-21T22:13:00.968896Z",
          "shell.execute_reply": "2021-11-21T22:13:00.97528Z"
        },
        "trusted": true,
        "colab": {
          "base_uri": "https://localhost:8080/"
        },
        "id": "r4kmcWHdZSwa",
        "outputId": "6d5afa3e-e820-4cab-ee66-a60d6317e44b"
      },
      "execution_count": null,
      "outputs": [
        {
          "output_type": "execute_result",
          "data": {
            "text/plain": [
              "15300"
            ]
          },
          "metadata": {},
          "execution_count": 142
        }
      ]
    },
    {
      "cell_type": "code",
      "source": [
        "len(X_validation)"
      ],
      "metadata": {
        "colab": {
          "base_uri": "https://localhost:8080/"
        },
        "id": "WbHwsv6jaP9m",
        "outputId": "0fe790a3-0127-4ead-b57a-e73513c5b4e3"
      },
      "execution_count": null,
      "outputs": [
        {
          "output_type": "execute_result",
          "data": {
            "text/plain": [
              "800"
            ]
          },
          "metadata": {},
          "execution_count": 143
        }
      ]
    },
    {
      "cell_type": "code",
      "source": [
        "crf = CRF(\n",
        "    algorithm='lbfgs',\n",
        "    c1=0.1,\n",
        "    c2=0.1,\n",
        "    max_iterations=500,\n",
        "    all_possible_transitions=True,\n",
        "    # verbose=True,\n",
        ")"
      ],
      "metadata": {
        "execution": {
          "iopub.status.busy": "2021-11-21T22:13:00.977288Z",
          "iopub.execute_input": "2021-11-21T22:13:00.979039Z",
          "iopub.status.idle": "2021-11-21T22:13:00.995019Z",
          "shell.execute_reply.started": "2021-11-21T22:13:00.97899Z",
          "shell.execute_reply": "2021-11-21T22:13:00.993824Z"
        },
        "trusted": true,
        "id": "2yMtk3LFZSwa"
      },
      "execution_count": null,
      "outputs": []
    },
    {
      "cell_type": "code",
      "source": [
        "X_train[0]"
      ],
      "metadata": {
        "colab": {
          "base_uri": "https://localhost:8080/"
        },
        "id": "Q1Ym-MCj6i4l",
        "outputId": "d65d3a45-7edc-488b-e4f6-a5bac063bf54"
      },
      "execution_count": null,
      "outputs": [
        {
          "output_type": "execute_result",
          "data": {
            "text/plain": [
              "[{'bias': 1.0,\n",
              "  'token.lower()': 'তার',\n",
              "  'isStopWord(token)': True,\n",
              "  'token.isupper()': False,\n",
              "  'token.istitle()': False,\n",
              "  'isDigit(token)': False,\n",
              "  'isPuncutuation(token)': False,\n",
              "  'postag': 'PPR',\n",
              "  'BOS': True,\n",
              "  'posterior_token.lower()': 'মৃত্যুর',\n",
              "  'isStopWord(posterior_token)': False,\n",
              "  'posterior_token.isupper()': False,\n",
              "  'posterior_token.istitle()': False,\n",
              "  'isDigit(posterior_token)': False,\n",
              "  'isPuncutuation(posterior_token)': False},\n",
              " {'bias': 1.0,\n",
              "  'token.lower()': 'মৃত্যুর',\n",
              "  'isStopWord(token)': False,\n",
              "  'token.isupper()': False,\n",
              "  'token.istitle()': False,\n",
              "  'isDigit(token)': False,\n",
              "  'isPuncutuation(token)': False,\n",
              "  'postag': 'NC',\n",
              "  'previous_token.lower()': 'তার',\n",
              "  'isStopWord(previous_token)': True,\n",
              "  'previous_token.isupper()': False,\n",
              "  'previous_token.istitle()': False,\n",
              "  'isDigit(previous_token)': False,\n",
              "  'isPuncutuation(previous_token)': False,\n",
              "  'posterior_token.lower()': 'দশ',\n",
              "  'isStopWord(posterior_token)': False,\n",
              "  'posterior_token.isupper()': False,\n",
              "  'posterior_token.istitle()': False,\n",
              "  'isDigit(posterior_token)': False,\n",
              "  'isPuncutuation(posterior_token)': False},\n",
              " {'bias': 1.0,\n",
              "  'token.lower()': 'দশ',\n",
              "  'isStopWord(token)': False,\n",
              "  'token.isupper()': False,\n",
              "  'token.istitle()': False,\n",
              "  'isDigit(token)': False,\n",
              "  'isPuncutuation(token)': False,\n",
              "  'postag': 'JQ',\n",
              "  'previous_token.lower()': 'মৃত্যুর',\n",
              "  'isStopWord(previous_token)': False,\n",
              "  'previous_token.isupper()': False,\n",
              "  'previous_token.istitle()': False,\n",
              "  'isDigit(previous_token)': False,\n",
              "  'isPuncutuation(previous_token)': False,\n",
              "  'posterior_token.lower()': 'দিন',\n",
              "  'isStopWord(posterior_token)': True,\n",
              "  'posterior_token.isupper()': False,\n",
              "  'posterior_token.istitle()': False,\n",
              "  'isDigit(posterior_token)': False,\n",
              "  'isPuncutuation(posterior_token)': False},\n",
              " {'bias': 1.0,\n",
              "  'token.lower()': 'দিন',\n",
              "  'isStopWord(token)': True,\n",
              "  'token.isupper()': False,\n",
              "  'token.istitle()': False,\n",
              "  'isDigit(token)': False,\n",
              "  'isPuncutuation(token)': False,\n",
              "  'postag': 'NC',\n",
              "  'previous_token.lower()': 'দশ',\n",
              "  'isStopWord(previous_token)': False,\n",
              "  'previous_token.isupper()': False,\n",
              "  'previous_token.istitle()': False,\n",
              "  'isDigit(previous_token)': False,\n",
              "  'isPuncutuation(previous_token)': False,\n",
              "  'posterior_token.lower()': 'পর',\n",
              "  'isStopWord(posterior_token)': True,\n",
              "  'posterior_token.isupper()': False,\n",
              "  'posterior_token.istitle()': False,\n",
              "  'isDigit(posterior_token)': False,\n",
              "  'isPuncutuation(posterior_token)': False},\n",
              " {'bias': 1.0,\n",
              "  'token.lower()': 'পর',\n",
              "  'isStopWord(token)': True,\n",
              "  'token.isupper()': False,\n",
              "  'token.istitle()': False,\n",
              "  'isDigit(token)': False,\n",
              "  'isPuncutuation(token)': False,\n",
              "  'postag': 'NST',\n",
              "  'previous_token.lower()': 'দিন',\n",
              "  'isStopWord(previous_token)': True,\n",
              "  'previous_token.isupper()': False,\n",
              "  'previous_token.istitle()': False,\n",
              "  'isDigit(previous_token)': False,\n",
              "  'isPuncutuation(previous_token)': False,\n",
              "  'posterior_token.lower()': '১১৫',\n",
              "  'isStopWord(posterior_token)': False,\n",
              "  'posterior_token.isupper()': False,\n",
              "  'posterior_token.istitle()': False,\n",
              "  'isDigit(posterior_token)': False,\n",
              "  'isPuncutuation(posterior_token)': False},\n",
              " {'bias': 1.0,\n",
              "  'token.lower()': '১১৫',\n",
              "  'isStopWord(token)': False,\n",
              "  'token.isupper()': False,\n",
              "  'token.istitle()': False,\n",
              "  'isDigit(token)': False,\n",
              "  'isPuncutuation(token)': False,\n",
              "  'postag': 'RDF',\n",
              "  'previous_token.lower()': 'পর',\n",
              "  'isStopWord(previous_token)': True,\n",
              "  'previous_token.isupper()': False,\n",
              "  'previous_token.istitle()': False,\n",
              "  'isDigit(previous_token)': False,\n",
              "  'isPuncutuation(previous_token)': False,\n",
              "  'posterior_token.lower()': 'কৃষ্ণাঙ্গ',\n",
              "  'isStopWord(posterior_token)': False,\n",
              "  'posterior_token.isupper()': False,\n",
              "  'posterior_token.istitle()': False,\n",
              "  'isDigit(posterior_token)': False,\n",
              "  'isPuncutuation(posterior_token)': False},\n",
              " {'bias': 1.0,\n",
              "  'token.lower()': 'কৃষ্ণাঙ্গ',\n",
              "  'isStopWord(token)': False,\n",
              "  'token.isupper()': False,\n",
              "  'token.istitle()': False,\n",
              "  'isDigit(token)': False,\n",
              "  'isPuncutuation(token)': False,\n",
              "  'postag': 'NC',\n",
              "  'previous_token.lower()': '১১৫',\n",
              "  'isStopWord(previous_token)': False,\n",
              "  'previous_token.isupper()': False,\n",
              "  'previous_token.istitle()': False,\n",
              "  'isDigit(previous_token)': False,\n",
              "  'isPuncutuation(previous_token)': False,\n",
              "  'posterior_token.lower()': 'উচ্চ',\n",
              "  'isStopWord(posterior_token)': False,\n",
              "  'posterior_token.isupper()': False,\n",
              "  'posterior_token.istitle()': False,\n",
              "  'isDigit(posterior_token)': False,\n",
              "  'isPuncutuation(posterior_token)': False},\n",
              " {'bias': 1.0,\n",
              "  'token.lower()': 'উচ্চ',\n",
              "  'isStopWord(token)': False,\n",
              "  'token.isupper()': False,\n",
              "  'token.istitle()': False,\n",
              "  'isDigit(token)': False,\n",
              "  'isPuncutuation(token)': False,\n",
              "  'postag': 'JJ',\n",
              "  'previous_token.lower()': 'কৃষ্ণাঙ্গ',\n",
              "  'isStopWord(previous_token)': False,\n",
              "  'previous_token.isupper()': False,\n",
              "  'previous_token.istitle()': False,\n",
              "  'isDigit(previous_token)': False,\n",
              "  'isPuncutuation(previous_token)': False,\n",
              "  'posterior_token.lower()': 'বিদ্যালয়ের',\n",
              "  'isStopWord(posterior_token)': False,\n",
              "  'posterior_token.isupper()': False,\n",
              "  'posterior_token.istitle()': False,\n",
              "  'isDigit(posterior_token)': False,\n",
              "  'isPuncutuation(posterior_token)': False},\n",
              " {'bias': 1.0,\n",
              "  'token.lower()': 'বিদ্যালয়ের',\n",
              "  'isStopWord(token)': False,\n",
              "  'token.isupper()': False,\n",
              "  'token.istitle()': False,\n",
              "  'isDigit(token)': False,\n",
              "  'isPuncutuation(token)': False,\n",
              "  'postag': 'NC',\n",
              "  'previous_token.lower()': 'উচ্চ',\n",
              "  'isStopWord(previous_token)': False,\n",
              "  'previous_token.isupper()': False,\n",
              "  'previous_token.istitle()': False,\n",
              "  'isDigit(previous_token)': False,\n",
              "  'isPuncutuation(previous_token)': False,\n",
              "  'posterior_token.lower()': 'শিক্ষার্থীরা',\n",
              "  'isStopWord(posterior_token)': False,\n",
              "  'posterior_token.isupper()': False,\n",
              "  'posterior_token.istitle()': False,\n",
              "  'isDigit(posterior_token)': False,\n",
              "  'isPuncutuation(posterior_token)': False},\n",
              " {'bias': 1.0,\n",
              "  'token.lower()': 'শিক্ষার্থীরা',\n",
              "  'isStopWord(token)': False,\n",
              "  'token.isupper()': False,\n",
              "  'token.istitle()': False,\n",
              "  'isDigit(token)': False,\n",
              "  'isPuncutuation(token)': False,\n",
              "  'postag': 'NC',\n",
              "  'previous_token.lower()': 'বিদ্যালয়ের',\n",
              "  'isStopWord(previous_token)': False,\n",
              "  'previous_token.isupper()': False,\n",
              "  'previous_token.istitle()': False,\n",
              "  'isDigit(previous_token)': False,\n",
              "  'isPuncutuation(previous_token)': False,\n",
              "  'posterior_token.lower()': 'তার',\n",
              "  'isStopWord(posterior_token)': True,\n",
              "  'posterior_token.isupper()': False,\n",
              "  'posterior_token.istitle()': False,\n",
              "  'isDigit(posterior_token)': False,\n",
              "  'isPuncutuation(posterior_token)': False},\n",
              " {'bias': 1.0,\n",
              "  'token.lower()': 'তার',\n",
              "  'isStopWord(token)': True,\n",
              "  'token.isupper()': False,\n",
              "  'token.istitle()': False,\n",
              "  'isDigit(token)': False,\n",
              "  'isPuncutuation(token)': False,\n",
              "  'postag': 'PPR',\n",
              "  'previous_token.lower()': 'শিক্ষার্থীরা',\n",
              "  'isStopWord(previous_token)': False,\n",
              "  'previous_token.isupper()': False,\n",
              "  'previous_token.istitle()': False,\n",
              "  'isDigit(previous_token)': False,\n",
              "  'isPuncutuation(previous_token)': False,\n",
              "  'posterior_token.lower()': 'হত্যার',\n",
              "  'isStopWord(posterior_token)': False,\n",
              "  'posterior_token.isupper()': False,\n",
              "  'posterior_token.istitle()': False,\n",
              "  'isDigit(posterior_token)': False,\n",
              "  'isPuncutuation(posterior_token)': False},\n",
              " {'bias': 1.0,\n",
              "  'token.lower()': 'হত্যার',\n",
              "  'isStopWord(token)': False,\n",
              "  'token.isupper()': False,\n",
              "  'token.istitle()': False,\n",
              "  'isDigit(token)': False,\n",
              "  'isPuncutuation(token)': False,\n",
              "  'postag': 'NC',\n",
              "  'previous_token.lower()': 'তার',\n",
              "  'isStopWord(previous_token)': True,\n",
              "  'previous_token.isupper()': False,\n",
              "  'previous_token.istitle()': False,\n",
              "  'isDigit(previous_token)': False,\n",
              "  'isPuncutuation(previous_token)': False,\n",
              "  'posterior_token.lower()': 'প্রতিবাদে',\n",
              "  'isStopWord(posterior_token)': False,\n",
              "  'posterior_token.isupper()': False,\n",
              "  'posterior_token.istitle()': False,\n",
              "  'isDigit(posterior_token)': False,\n",
              "  'isPuncutuation(posterior_token)': False},\n",
              " {'bias': 1.0,\n",
              "  'token.lower()': 'প্রতিবাদে',\n",
              "  'isStopWord(token)': False,\n",
              "  'token.isupper()': False,\n",
              "  'token.istitle()': False,\n",
              "  'isDigit(token)': False,\n",
              "  'isPuncutuation(token)': False,\n",
              "  'postag': 'NC',\n",
              "  'previous_token.lower()': 'হত্যার',\n",
              "  'isStopWord(previous_token)': False,\n",
              "  'previous_token.isupper()': False,\n",
              "  'previous_token.istitle()': False,\n",
              "  'isDigit(previous_token)': False,\n",
              "  'isPuncutuation(previous_token)': False,\n",
              "  'posterior_token.lower()': 'ম্যাককম্ব',\n",
              "  'isStopWord(posterior_token)': False,\n",
              "  'posterior_token.isupper()': False,\n",
              "  'posterior_token.istitle()': False,\n",
              "  'isDigit(posterior_token)': False,\n",
              "  'isPuncutuation(posterior_token)': False},\n",
              " {'bias': 1.0,\n",
              "  'token.lower()': 'ম্যাককম্ব',\n",
              "  'isStopWord(token)': False,\n",
              "  'token.isupper()': False,\n",
              "  'token.istitle()': False,\n",
              "  'isDigit(token)': False,\n",
              "  'isPuncutuation(token)': False,\n",
              "  'postag': 'NC',\n",
              "  'previous_token.lower()': 'প্রতিবাদে',\n",
              "  'isStopWord(previous_token)': False,\n",
              "  'previous_token.isupper()': False,\n",
              "  'previous_token.istitle()': False,\n",
              "  'isDigit(previous_token)': False,\n",
              "  'isPuncutuation(previous_token)': False,\n",
              "  'posterior_token.lower()': 'এর',\n",
              "  'isStopWord(posterior_token)': True,\n",
              "  'posterior_token.isupper()': False,\n",
              "  'posterior_token.istitle()': False,\n",
              "  'isDigit(posterior_token)': False,\n",
              "  'isPuncutuation(posterior_token)': False},\n",
              " {'bias': 1.0,\n",
              "  'token.lower()': 'এর',\n",
              "  'isStopWord(token)': True,\n",
              "  'token.isupper()': False,\n",
              "  'token.istitle()': False,\n",
              "  'isDigit(token)': False,\n",
              "  'isPuncutuation(token)': False,\n",
              "  'postag': 'PPR',\n",
              "  'previous_token.lower()': 'ম্যাককম্ব',\n",
              "  'isStopWord(previous_token)': False,\n",
              "  'previous_token.isupper()': False,\n",
              "  'previous_token.istitle()': False,\n",
              "  'isDigit(previous_token)': False,\n",
              "  'isPuncutuation(previous_token)': False,\n",
              "  'posterior_token.lower()': 'মাধ্যমে',\n",
              "  'isStopWord(posterior_token)': True,\n",
              "  'posterior_token.isupper()': False,\n",
              "  'posterior_token.istitle()': False,\n",
              "  'isDigit(posterior_token)': False,\n",
              "  'isPuncutuation(posterior_token)': False},\n",
              " {'bias': 1.0,\n",
              "  'token.lower()': 'মাধ্যমে',\n",
              "  'isStopWord(token)': True,\n",
              "  'token.isupper()': False,\n",
              "  'token.istitle()': False,\n",
              "  'isDigit(token)': False,\n",
              "  'isPuncutuation(token)': False,\n",
              "  'postag': 'PP',\n",
              "  'previous_token.lower()': 'এর',\n",
              "  'isStopWord(previous_token)': True,\n",
              "  'previous_token.isupper()': False,\n",
              "  'previous_token.istitle()': False,\n",
              "  'isDigit(previous_token)': False,\n",
              "  'isPuncutuation(previous_token)': False,\n",
              "  'posterior_token.lower()': 'মিছিল',\n",
              "  'isStopWord(posterior_token)': False,\n",
              "  'posterior_token.isupper()': False,\n",
              "  'posterior_token.istitle()': False,\n",
              "  'isDigit(posterior_token)': False,\n",
              "  'isPuncutuation(posterior_token)': False},\n",
              " {'bias': 1.0,\n",
              "  'token.lower()': 'মিছিল',\n",
              "  'isStopWord(token)': False,\n",
              "  'token.isupper()': False,\n",
              "  'token.istitle()': False,\n",
              "  'isDigit(token)': False,\n",
              "  'isPuncutuation(token)': False,\n",
              "  'postag': 'NC',\n",
              "  'previous_token.lower()': 'মাধ্যমে',\n",
              "  'isStopWord(previous_token)': True,\n",
              "  'previous_token.isupper()': False,\n",
              "  'previous_token.istitle()': False,\n",
              "  'isDigit(previous_token)': False,\n",
              "  'isPuncutuation(previous_token)': False,\n",
              "  'posterior_token.lower()': 'করেছে',\n",
              "  'isStopWord(posterior_token)': True,\n",
              "  'posterior_token.isupper()': False,\n",
              "  'posterior_token.istitle()': False,\n",
              "  'isDigit(posterior_token)': False,\n",
              "  'isPuncutuation(posterior_token)': False},\n",
              " {'bias': 1.0,\n",
              "  'token.lower()': 'করেছে',\n",
              "  'isStopWord(token)': True,\n",
              "  'token.isupper()': False,\n",
              "  'token.istitle()': False,\n",
              "  'isDigit(token)': False,\n",
              "  'isPuncutuation(token)': False,\n",
              "  'postag': 'VM',\n",
              "  'previous_token.lower()': 'মিছিল',\n",
              "  'isStopWord(previous_token)': False,\n",
              "  'previous_token.isupper()': False,\n",
              "  'previous_token.istitle()': False,\n",
              "  'isDigit(previous_token)': False,\n",
              "  'isPuncutuation(previous_token)': False,\n",
              "  'EOS': True}]"
            ]
          },
          "metadata": {},
          "execution_count": 145
        }
      ]
    },
    {
      "cell_type": "code",
      "source": [
        "crf.fit(X_train, y_train)\n",
        "# try:\n",
        "#     crf.fit(X_train, y_train)\n",
        "# except AttributeError:\n",
        "#     pass"
      ],
      "metadata": {
        "execution": {
          "iopub.status.busy": "2021-11-21T22:13:00.997732Z",
          "iopub.execute_input": "2021-11-21T22:13:00.998095Z",
          "iopub.status.idle": "2021-11-21T22:16:19.787879Z",
          "shell.execute_reply.started": "2021-11-21T22:13:00.99805Z",
          "shell.execute_reply": "2021-11-21T22:16:19.786873Z"
        },
        "trusted": true,
        "id": "aF4hIbzmZSwa",
        "colab": {
          "base_uri": "https://localhost:8080/"
        },
        "outputId": "02b3166d-09a9-4895-8a88-04810c9324cf"
      },
      "execution_count": null,
      "outputs": [
        {
          "output_type": "stream",
          "name": "stderr",
          "text": [
            "/usr/local/lib/python3.8/dist-packages/sklearn/base.py:209: FutureWarning: From version 0.24, get_params will raise an AttributeError if a parameter cannot be retrieved as an instance attribute. Previously it would return None.\n",
            "  warnings.warn('From version 0.24, get_params will raise an '\n"
          ]
        },
        {
          "output_type": "execute_result",
          "data": {
            "text/plain": [
              "CRF(algorithm='lbfgs', all_possible_transitions=True, c1=0.1, c2=0.1,\n",
              "    keep_tempfiles=None, max_iterations=500)"
            ]
          },
          "metadata": {},
          "execution_count": 146
        }
      ]
    },
    {
      "cell_type": "code",
      "source": [
        "y_pred = crf.predict(X_validation)"
      ],
      "metadata": {
        "execution": {
          "iopub.status.busy": "2021-11-21T22:16:19.788951Z",
          "iopub.execute_input": "2021-11-21T22:16:19.789142Z",
          "iopub.status.idle": "2021-11-21T22:16:27.681813Z",
          "shell.execute_reply.started": "2021-11-21T22:16:19.789116Z",
          "shell.execute_reply": "2021-11-21T22:16:27.680945Z"
        },
        "trusted": true,
        "id": "22xYRPzyZSwa"
      },
      "execution_count": null,
      "outputs": []
    },
    {
      "cell_type": "code",
      "source": [
        "y_validation[0]"
      ],
      "metadata": {
        "id": "tp5VhUpbT-a7",
        "colab": {
          "base_uri": "https://localhost:8080/"
        },
        "outputId": "43ca527b-2dd1-4326-9527-b75c20fdaa7d"
      },
      "execution_count": null,
      "outputs": [
        {
          "output_type": "execute_result",
          "data": {
            "text/plain": [
              "0         O\n",
              "1         O\n",
              "2         O\n",
              "3     B-GRP\n",
              "4     I-GRP\n",
              "5     I-GRP\n",
              "6         O\n",
              "7         O\n",
              "8         O\n",
              "9         O\n",
              "10        O\n",
              "11        O\n",
              "12        O\n",
              "13        O\n",
              "14        O\n",
              "15        O\n",
              "16        O\n",
              "Name: tag, dtype: object"
            ]
          },
          "metadata": {},
          "execution_count": 148
        }
      ]
    },
    {
      "cell_type": "code",
      "source": [
        "y_pred[0]"
      ],
      "metadata": {
        "id": "CGLoffUKUCpR",
        "colab": {
          "base_uri": "https://localhost:8080/"
        },
        "outputId": "2edf643a-54f6-4805-ac69-1e34b262e6bd"
      },
      "execution_count": null,
      "outputs": [
        {
          "output_type": "execute_result",
          "data": {
            "text/plain": [
              "['O',\n",
              " 'O',\n",
              " 'O',\n",
              " 'B-GRP',\n",
              " 'I-GRP',\n",
              " 'I-GRP',\n",
              " 'O',\n",
              " 'O',\n",
              " 'O',\n",
              " 'O',\n",
              " 'O',\n",
              " 'O',\n",
              " 'O',\n",
              " 'O',\n",
              " 'O',\n",
              " 'O',\n",
              " 'O']"
            ]
          },
          "metadata": {},
          "execution_count": 149
        }
      ]
    },
    {
      "cell_type": "code",
      "source": [
        "print(metrics.flat_classification_report(y_validation, y_pred, digits=4))"
      ],
      "metadata": {
        "execution": {
          "iopub.status.busy": "2021-11-21T22:16:27.683021Z",
          "iopub.execute_input": "2021-11-21T22:16:27.683321Z",
          "iopub.status.idle": "2021-11-21T22:16:42.542417Z",
          "shell.execute_reply.started": "2021-11-21T22:16:27.683281Z",
          "shell.execute_reply": "2021-11-21T22:16:42.541414Z"
        },
        "trusted": true,
        "id": "l3wo3SafZSwb",
        "colab": {
          "base_uri": "https://localhost:8080/"
        },
        "outputId": "7a05e3f2-a6bb-41e6-e677-9011927144e4"
      },
      "execution_count": null,
      "outputs": [
        {
          "output_type": "stream",
          "name": "stderr",
          "text": [
            "/usr/local/lib/python3.8/dist-packages/sklearn/utils/validation.py:67: FutureWarning: Pass labels=None as keyword args. From version 0.25 passing these as positional arguments will result in an error\n",
            "  warnings.warn(\"Pass {} as keyword args. From version 0.25 \"\n"
          ]
        },
        {
          "output_type": "stream",
          "name": "stdout",
          "text": [
            "              precision    recall  f1-score   support\n",
            "\n",
            "      B-CORP     0.8161    0.5591    0.6636       127\n",
            "        B-CW     0.7455    0.3417    0.4686       120\n",
            "       B-GRP     0.7921    0.6780    0.7306       118\n",
            "       B-LOC     0.7191    0.6337    0.6737       101\n",
            "       B-PER     0.7708    0.7708    0.7708       144\n",
            "      B-PROD     0.7687    0.5421    0.6358       190\n",
            "      I-CORP     0.8241    0.7295    0.7739       122\n",
            "        I-CW     0.8101    0.3975    0.5333       161\n",
            "       I-GRP     0.8318    0.7876    0.8091       226\n",
            "       I-LOC     0.8444    0.6230    0.7170        61\n",
            "       I-PER     0.7872    0.8222    0.8043       180\n",
            "      I-PROD     0.7708    0.5736    0.6578       129\n",
            "           O     0.9521    0.9894    0.9704      8654\n",
            "\n",
            "    accuracy                         0.9313     10333\n",
            "   macro avg     0.8025    0.6499    0.7084     10333\n",
            "weighted avg     0.9259    0.9313    0.9252     10333\n",
            "\n"
          ]
        }
      ]
    },
    {
      "cell_type": "code",
      "source": [],
      "metadata": {
        "id": "J4ZPT4QytnDA"
      },
      "execution_count": null,
      "outputs": []
    },
    {
      "cell_type": "code",
      "source": [
        "# crf"
      ],
      "metadata": {
        "id": "3V4CezVCaw7D"
      },
      "execution_count": null,
      "outputs": []
    },
    {
      "cell_type": "code",
      "source": [
        "print(\"Done\")"
      ],
      "metadata": {
        "id": "89Mf5rtE4-fC",
        "colab": {
          "base_uri": "https://localhost:8080/"
        },
        "outputId": "bef852e0-b7bf-40bd-ca6d-10115b5214bf"
      },
      "execution_count": null,
      "outputs": [
        {
          "output_type": "stream",
          "name": "stdout",
          "text": [
            "Done\n"
          ]
        }
      ]
    },
    {
      "cell_type": "code",
      "source": [
        "import joblib\n",
        "\n",
        "# save the model to a file\n",
        "joblib.dump(crf, 'crf_model_POS_added_no_punc_500_epoch.joblib')\n",
        "\n",
        "# later, to load the model from the file\n",
        "loaded_crf = joblib.load('crf_model_POS_added_no_punc_500_epoch.joblib')\n"
      ],
      "metadata": {
        "id": "j76QO3AW5aAh"
      },
      "execution_count": null,
      "outputs": []
    },
    {
      "cell_type": "code",
      "source": [
        "# !cp crf_model.joblib \"/content/drive/MyDrive/Colab Notebooks/NLP_Hackathon/\""
      ],
      "metadata": {
        "id": "v1X-qtuR-ZyO"
      },
      "execution_count": null,
      "outputs": []
    },
    {
      "cell_type": "code",
      "source": [
        "# print(\"RandomForest\")"
      ],
      "metadata": {
        "id": "sN5s4_gbh1PT"
      },
      "execution_count": null,
      "outputs": []
    },
    {
      "cell_type": "code",
      "source": [
        "# from sklearn.ensemble import RandomForestClassifier\n",
        "# clf = RandomForestClassifier(n_estimators = 100)\n"
      ],
      "metadata": {
        "id": "yUR0GgLAtq28"
      },
      "execution_count": null,
      "outputs": []
    },
    {
      "cell_type": "code",
      "source": [
        "# len(X_train)\n"
      ],
      "metadata": {
        "id": "etBx_tGQu2A5"
      },
      "execution_count": null,
      "outputs": []
    },
    {
      "cell_type": "code",
      "source": [
        "# X_train[0]"
      ],
      "metadata": {
        "id": "4mVwiS1avN7b"
      },
      "execution_count": null,
      "outputs": []
    },
    {
      "cell_type": "code",
      "source": [
        "# clf.fit(X_train, y_train)"
      ],
      "metadata": {
        "id": "9zMMKzC_uzi9"
      },
      "execution_count": null,
      "outputs": []
    },
    {
      "cell_type": "code",
      "source": [
        "# y_pred = clf.predict(X_validation)"
      ],
      "metadata": {
        "id": "L5oQilqnuV3Z"
      },
      "execution_count": null,
      "outputs": []
    },
    {
      "cell_type": "code",
      "source": [
        "# print(metrics.flat_classification_report(y_validation, y_pred, digits=4))"
      ],
      "metadata": {
        "id": "APvZlQwlug3p"
      },
      "execution_count": null,
      "outputs": []
    }
  ]
}